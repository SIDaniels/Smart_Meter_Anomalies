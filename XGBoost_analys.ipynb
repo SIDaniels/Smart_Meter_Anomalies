{
 "cells": [
  {
   "cell_type": "code",
   "execution_count": 144,
   "metadata": {},
   "outputs": [],
   "source": [
    "import pandas as pd\n",
    "import numpy as np\n",
    "from sklearn.model_selection import cross_val_score\n",
    "\n",
    "from sklearn.metrics import f1_score\n",
    "from sklearn.metrics import accuracy_score, confusion_matrix, recall_score, roc_auc_score, precision_score\n",
    "from sklearn.preprocessing import OneHotEncoder\n",
    "from sklearn.compose import make_column_transformer\n",
    "\n",
    "from sklearn import metrics\n",
    "from sklearn.preprocessing import StandardScaler\n",
    "\n",
    "import statsmodels.api as sm\n",
    "\n",
    "import plotly as py\n",
    "import matplotlib.pyplot as plt\n",
    "\n",
    "\n",
    "from tqdm import tqdm, trange\n",
    "import seaborn as sns\n",
    "import random\n",
    "from sklearn import preprocessing\n",
    "\n",
    "\n",
    "import xgboost as xgb\n",
    "from sklearn.metrics import mean_squared_error\n",
    "from sklearn.metrics import confusion_matrix\n",
    "\n",
    "from sklearn.model_selection import GridSearchCV\n",
    "from sklearn.model_selection import RandomizedSearchCV\n",
    "\n",
    "from pprint import pprint\n",
    "from sklearn.metrics import roc_auc_score, roc_curve\n",
    "from sklearn.model_selection import StratifiedKFold\n"
   ]
  },
  {
   "cell_type": "code",
   "execution_count": 172,
   "metadata": {},
   "outputs": [],
   "source": [
    "from sklearn.model_selection import cross_validate"
   ]
  },
  {
   "cell_type": "markdown",
   "metadata": {},
   "source": [
    "XGBoost Implementation"
   ]
  },
  {
   "cell_type": "code",
   "execution_count": 116,
   "metadata": {},
   "outputs": [],
   "source": [
    "#https://www.datacamp.com/tutorial/xgboost-in-python\n",
    "xg_reg=xgb.XGBClassifier()"
   ]
  },
  {
   "cell_type": "code",
   "execution_count": 83,
   "metadata": {},
   "outputs": [
    {
     "name": "stdout",
     "output_type": "stream",
     "text": [
      "<class 'pandas.core.frame.DataFrame'>\n",
      "Int64Index: 1399843 entries, 0 to 1749453\n",
      "Data columns (total 43 columns):\n",
      " #   Column                         Non-Null Count    Dtype  \n",
      "---  ------                         --------------    -----  \n",
      " 0   meter_reading                  1399843 non-null  float64\n",
      " 1   square_feet                    1399843 non-null  int64  \n",
      " 2   year_built                     1399843 non-null  int64  \n",
      " 3   floor_count                    1399843 non-null  int64  \n",
      " 4   air_temperature                1399843 non-null  float64\n",
      " 5   cloud_coverage                 1399843 non-null  int64  \n",
      " 6   dew_temperature                1399843 non-null  float64\n",
      " 7   precip_depth_1_hr              1399843 non-null  int64  \n",
      " 8   sea_level_pressure             1399843 non-null  float64\n",
      " 9   wind_direction                 1399843 non-null  int64  \n",
      " 10  wind_speed                     1399843 non-null  float64\n",
      " 11  air_temperature_std_lag7       1399843 non-null  float64\n",
      " 12  air_temperature_std_lag73      1399843 non-null  float64\n",
      " 13  hour                           1399843 non-null  int64  \n",
      " 14  weekday                        1399843 non-null  int64  \n",
      " 15  month                          1399843 non-null  int64  \n",
      " 16  hour_x                         1399843 non-null  float64\n",
      " 17  hour_y                         1399843 non-null  float64\n",
      " 18  month_x                        1399843 non-null  float64\n",
      " 19  month_y                        1399843 non-null  float64\n",
      " 20  weekday_x                      1399843 non-null  float64\n",
      " 21  weekday_y                      1399843 non-null  float64\n",
      " 22  is_holiday                     1399843 non-null  int64  \n",
      " 23  gte_site_id                    1399843 non-null  float64\n",
      " 24  gte_meter_hour                 1399843 non-null  float64\n",
      " 25  gte_meter_weekday              1399843 non-null  float64\n",
      " 26  gte_meter_month                1399843 non-null  float64\n",
      " 27  gte_meter_primary_use          1399843 non-null  float64\n",
      " 28  gte_meter_site_id              1399843 non-null  float64\n",
      " 29  meterReadings_daily_std        1399843 non-null  float64\n",
      " 30  0                              1399843 non-null  int64  \n",
      " 31  Education                      1399843 non-null  uint8  \n",
      " 32  Entertainment/public assembly  1399843 non-null  uint8  \n",
      " 33  Food sales and service         1399843 non-null  uint8  \n",
      " 34  Healthcare                     1399843 non-null  uint8  \n",
      " 35  Lodging/residential            1399843 non-null  uint8  \n",
      " 36  Manufacturing/industrial       1399843 non-null  uint8  \n",
      " 37  Office                         1399843 non-null  uint8  \n",
      " 38  Other                          1399843 non-null  uint8  \n",
      " 39  Parking                        1399843 non-null  uint8  \n",
      " 40  Public services                1399843 non-null  uint8  \n",
      " 41  Religious worship              1399843 non-null  uint8  \n",
      " 42  Services                       1399843 non-null  uint8  \n",
      "dtypes: float64(20), int64(11), uint8(12)\n",
      "memory usage: 357.8 MB\n"
     ]
    }
   ],
   "source": [
    "df_train2_x_rf.info()"
   ]
  },
  {
   "cell_type": "code",
   "execution_count": 117,
   "metadata": {},
   "outputs": [
    {
     "data": {
      "text/plain": [
       "XGBClassifier(base_score=0.5, booster='gbtree', callbacks=None,\n",
       "              colsample_bylevel=1, colsample_bynode=1, colsample_bytree=1,\n",
       "              early_stopping_rounds=None, enable_categorical=False,\n",
       "              eval_metric=None, gamma=0, gpu_id=-1, grow_policy='depthwise',\n",
       "              importance_type=None, interaction_constraints='',\n",
       "              learning_rate=0.300000012, max_bin=256, max_cat_to_onehot=4,\n",
       "              max_delta_step=0, max_depth=6, max_leaves=0, min_child_weight=1,\n",
       "              missing=nan, monotone_constraints='()', n_estimators=100,\n",
       "              n_jobs=0, num_parallel_tree=1, predictor='auto', random_state=0,\n",
       "              reg_alpha=0, reg_lambda=1, ...)"
      ]
     },
     "execution_count": 117,
     "metadata": {},
     "output_type": "execute_result"
    }
   ],
   "source": [
    "xg_reg.fit(df_train2_x_rf, df_train2_y)"
   ]
  },
  {
   "cell_type": "code",
   "execution_count": 118,
   "metadata": {},
   "outputs": [],
   "source": [
    "predict_xgb=xg_reg.predict(df_val_x_rf)"
   ]
  },
  {
   "cell_type": "code",
   "execution_count": 119,
   "metadata": {},
   "outputs": [
    {
     "data": {
      "text/plain": [
       "array([0, 0, 0, ..., 0, 0, 0])"
      ]
     },
     "execution_count": 119,
     "metadata": {},
     "output_type": "execute_result"
    }
   ],
   "source": [
    "predict_xgb"
   ]
  },
  {
   "cell_type": "code",
   "execution_count": 119,
   "metadata": {},
   "outputs": [
    {
     "data": {
      "text/html": [
       "<div>\n",
       "<style scoped>\n",
       "    .dataframe tbody tr th:only-of-type {\n",
       "        vertical-align: middle;\n",
       "    }\n",
       "\n",
       "    .dataframe tbody tr th {\n",
       "        vertical-align: top;\n",
       "    }\n",
       "\n",
       "    .dataframe thead th {\n",
       "        text-align: right;\n",
       "    }\n",
       "</style>\n",
       "<table border=\"1\" class=\"dataframe\">\n",
       "  <thead>\n",
       "    <tr style=\"text-align: right;\">\n",
       "      <th></th>\n",
       "      <th>0</th>\n",
       "    </tr>\n",
       "  </thead>\n",
       "  <tbody>\n",
       "    <tr>\n",
       "      <th>accuracy</th>\n",
       "      <td>0.986898</td>\n",
       "    </tr>\n",
       "    <tr>\n",
       "      <th>recall</th>\n",
       "      <td>0.620587</td>\n",
       "    </tr>\n",
       "    <tr>\n",
       "      <th>precision</th>\n",
       "      <td>0.894017</td>\n",
       "    </tr>\n",
       "    <tr>\n",
       "      <th>roc_auc_score</th>\n",
       "      <td>0.809198</td>\n",
       "    </tr>\n",
       "    <tr>\n",
       "      <th>F1_score</th>\n",
       "      <td>0.732621</td>\n",
       "    </tr>\n",
       "  </tbody>\n",
       "</table>\n",
       "</div>"
      ],
      "text/plain": [
       "                      0\n",
       "accuracy       0.986898\n",
       "recall         0.620587\n",
       "precision      0.894017\n",
       "roc_auc_score  0.809198\n",
       "F1_score       0.732621"
      ]
     },
     "execution_count": 119,
     "metadata": {},
     "output_type": "execute_result"
    }
   ],
   "source": [
    "pd.DataFrame(data=[accuracy_score(df_val_y, predict_xgb), recall_score(df_val_y, predict_xgb),\n",
    "                   precision_score(df_val_y, predict_xgb), roc_auc_score(df_val_y, predict_xgb),f1_score(df_val_y, predict_xgb)], \n",
    "             index=[\"accuracy\", \"recall\", \"precision\", \"roc_auc_score\",'F1_score'])"
   ]
  },
  {
   "cell_type": "code",
   "execution_count": 120,
   "metadata": {},
   "outputs": [
    {
     "name": "stdout",
     "output_type": "stream",
     "text": [
      "[[338794    744]\n",
      " [  3837   6276]]\n"
     ]
    }
   ],
   "source": [
    "cm = metrics.confusion_matrix(df_val_y, predict_xgb)\n",
    "print(cm)"
   ]
  },
  {
   "cell_type": "code",
   "execution_count": 121,
   "metadata": {},
   "outputs": [
    {
     "data": {
      "image/png": "[encoded data removed]",
      "text/plain": [
       "<Figure size 648x648 with 2 Axes>"
      ]
     },
     "metadata": {
      "needs_background": "light"
     },
     "output_type": "display_data"
    }
   ],
   "source": [
    "plt.figure(figsize=(9,9))\n",
    "sns.heatmap(cm, annot=True, fmt=\".1f\", linewidths=.5, square = True, cmap = 'Blues_r');\n",
    "plt.ylabel('Actual label');\n",
    "plt.xlabel('Predicted label');\n",
    "plt.savefig(\"confusion matrix.png\", facecolor='w')"
   ]
  },
  {
   "cell_type": "code",
   "execution_count": 207,
   "metadata": {},
   "outputs": [],
   "source": [
    "probs_xg=xg_reg.predict_proba(df_val_x_rf)[:,1]\n"
   ]
  },
  {
   "cell_type": "code",
   "execution_count": 208,
   "metadata": {},
   "outputs": [],
   "source": [
    "#https://python-bloggers.com/2020/12/roc-and-auc-how-to-evaluate-machine-learning-models-in-no-time/\n",
    "\n",
    "\n",
    "auc_xg = roc_auc_score(df_val_y, probs_xg)\n",
    "fpr_xg, tpr_xg, thresholds_xg = roc_curve(df_val_y, probs_xg)"
   ]
  },
  {
   "cell_type": "code",
   "execution_count": 209,
   "metadata": {},
   "outputs": [
    {
     "data": {
      "text/plain": [
       "[<matplotlib.lines.Line2D at 0x7febcebe84f0>]"
      ]
     },
     "execution_count": 209,
     "metadata": {},
     "output_type": "execute_result"
    },
    {
     "data": {
      "image/png": "[encoded data removed]",
      "text/plain": [
       "<Figure size 864x504 with 1 Axes>"
      ]
     },
     "metadata": {
      "needs_background": "light"
     },
     "output_type": "display_data"
    }
   ],
   "source": [
    "plt.figure(figsize=(12, 7))\n",
    "plt.plot(fpr_xg, tpr_xg, label=f'AUC (XGBoost) = {auc_xg:.2f}')"
   ]
  },
  {
   "cell_type": "code",
   "execution_count": 221,
   "metadata": {},
   "outputs": [
    {
     "data": {
      "image/png": "[encoded data removed]",
      "text/plain": [
       "<Figure size 864x504 with 1 Axes>"
      ]
     },
     "metadata": {
      "needs_background": "light"
     },
     "output_type": "display_data"
    }
   ],
   "source": [
    "#https://stackoverflow.com/questions/25009284/how-to-plot-roc-curve-in-python\n",
    "\n",
    "# calculate the fpr and tpr for all thresholds of the classification\n",
    "\n",
    "roc_auc = metrics.auc(fpr_xg, tpr_xg)\n",
    "\n",
    "# method I: plt\n",
    "\n",
    "plt.figure(figsize=(12, 7))\n",
    "plt.title('Receiver Operating Characteristic')\n",
    "plt.plot(fpr_xg, tpr_xg, 'b', label = 'AUC = %0.2f' % roc_auc)\n",
    "plt.legend(loc = 'lower right')\n",
    "plt.plot([0, 1], [0, 1],'r--')\n",
    "plt.xlim([-0.05, 1])\n",
    "plt.ylim([0, 1])\n",
    "plt.ylabel('True Positive Rate')\n",
    "plt.xlabel('False Positive Rate')\n",
    "plt.savefig('auc_roc.png', facecolor='w')"
   ]
  },
  {
   "cell_type": "code",
   "execution_count": 219,
   "metadata": {},
   "outputs": [
    {
     "data": {
      "text/plain": [
       "<Figure size 432x288 with 0 Axes>"
      ]
     },
     "metadata": {},
     "output_type": "display_data"
    }
   ],
   "source": [
    "plt.show()\n"
   ]
  },
  {
   "cell_type": "code",
   "execution_count": 122,
   "metadata": {},
   "outputs": [
    {
     "data": {
      "image/png": "[encoded data removed]",
      "text/plain": [
       "<Figure size 1080x1080 with 1 Axes>"
      ]
     },
     "metadata": {
      "needs_background": "light"
     },
     "output_type": "display_data"
    }
   ],
   "source": [
    "plt.figure(figsize=(15,15))\n",
    "features = df_train2_x_rf.columns\n",
    "importances = xg_reg.feature_importances_\n",
    "indices = np.argsort(importances)\n",
    "\n",
    "plt.title('Feature Importances')\n",
    "plt.barh(range(len(indices)), importances[indices], color='b', align='center')\n",
    "plt.yticks(range(len(indices)), [features[i] for i in indices])\n",
    "plt.xlabel('Relative Importance')\n",
    "plt.savefig('feature_imp.png', facecolor='w', bbox_inches='tight')"
   ]
  },
  {
   "cell_type": "code",
   "execution_count": 181,
   "metadata": {},
   "outputs": [],
   "source": [
    "params = {\n",
    "        'min_child_weight': [1, 5, 10],\n",
    "        'gamma': [0.5, 1, 1.5, 2, 5],\n",
    "        'subsample': [0.6, 0.8, 1.0],\n",
    "        'colsample_bytree': [0.6, 0.8, 1.0],\n",
    "        'max_depth': [3, 4, 5]\n",
    "        }\n",
    "\n",
    "params2= {\n",
    "'max_depth': [5,6,7],\n",
    "'learning_rate': [0.1, 1.0, 10],\n",
    "\"colsample_bytree\": [0.4,0.8,1.0],\n",
    "\"min_child_weight\": [1, 5, 10, 20]\n",
    "}"
   ]
  },
  {
   "cell_type": "code",
   "execution_count": 183,
   "metadata": {},
   "outputs": [],
   "source": [
    "#https://www.kaggle.com/code/tilii7/hyperparameter-grid-search-with-xgboost/notebook\n",
    "\n",
    "folds = 3\n",
    "param_comb = 5\n",
    "\n",
    "skf = StratifiedKFold(n_splits=folds, shuffle = True, random_state = 1001)\n",
    "\n",
    "random_search = RandomizedSearchCV(xg_reg, param_distributions=params2, n_iter=10, scoring='f1', n_jobs=-1, cv=skf.split(df_train2_x_rf, df_train2_y), verbose=3, random_state=1001 )"
   ]
  },
  {
   "cell_type": "code",
   "execution_count": 184,
   "metadata": {},
   "outputs": [
    {
     "name": "stdout",
     "output_type": "stream",
     "text": [
      "Fitting 3 folds for each of 10 candidates, totalling 30 fits\n",
      "[CV 3/3] END colsample_bytree=0.4, learning_rate=0.1, max_depth=5, min_child_weight=20;, score=0.724 total time= 9.6min\n",
      "[CV 2/3] END colsample_bytree=0.4, learning_rate=0.1, max_depth=5, min_child_weight=20;, score=0.731 total time= 9.6min\n",
      "[CV 1/3] END colsample_bytree=0.4, learning_rate=0.1, max_depth=5, min_child_weight=20;, score=0.734 total time= 9.8min\n",
      "[CV 2/3] END colsample_bytree=0.4, learning_rate=0.1, max_depth=6, min_child_weight=20;, score=0.748 total time=11.6min\n",
      "[CV 1/3] END colsample_bytree=0.4, learning_rate=0.1, max_depth=6, min_child_weight=20;, score=0.748 total time=11.7min\n",
      "[CV 3/3] END colsample_bytree=0.4, learning_rate=0.1, max_depth=6, min_child_weight=20;, score=0.739 total time=12.0min\n",
      "[CV 1/3] END colsample_bytree=1.0, learning_rate=0.1, max_depth=5, min_child_weight=20;, score=0.739 total time=21.4min\n",
      "[CV 2/3] END colsample_bytree=1.0, learning_rate=0.1, max_depth=5, min_child_weight=10;, score=0.744 total time=21.6min\n",
      "[CV 1/3] END colsample_bytree=1.0, learning_rate=0.1, max_depth=5, min_child_weight=10;, score=0.746 total time=22.0min\n",
      "[CV 3/3] END colsample_bytree=1.0, learning_rate=0.1, max_depth=5, min_child_weight=20;, score=0.731 total time=22.0min\n",
      "[CV 2/3] END colsample_bytree=1.0, learning_rate=0.1, max_depth=5, min_child_weight=20;, score=0.740 total time=22.6min\n",
      "[CV 3/3] END colsample_bytree=1.0, learning_rate=0.1, max_depth=5, min_child_weight=10;, score=0.734 total time=22.6min\n",
      "[CV 1/3] END colsample_bytree=0.4, learning_rate=1.0, max_depth=7, min_child_weight=1;, score=0.860 total time=13.9min\n",
      "[CV 2/3] END colsample_bytree=0.4, learning_rate=1.0, max_depth=7, min_child_weight=1;, score=0.857 total time=13.9min\n",
      "[CV 3/3] END colsample_bytree=0.4, learning_rate=1.0, max_depth=7, min_child_weight=1;, score=0.864 total time=14.2min\n",
      "[CV 2/3] END colsample_bytree=0.8, learning_rate=1.0, max_depth=6, min_child_weight=20;, score=0.861 total time=20.0min\n",
      "[CV 1/3] END colsample_bytree=0.8, learning_rate=1.0, max_depth=6, min_child_weight=20;, score=0.858 total time=20.4min\n",
      "[CV 3/3] END colsample_bytree=0.8, learning_rate=1.0, max_depth=6, min_child_weight=20;, score=0.865 total time=20.3min\n",
      "[CV 1/3] END colsample_bytree=0.4, learning_rate=10, max_depth=6, min_child_weight=20;, score=0.017 total time= 2.5min\n",
      "[CV 2/3] END colsample_bytree=0.4, learning_rate=10, max_depth=6, min_child_weight=20;, score=0.014 total time= 2.4min\n",
      "[CV 3/3] END colsample_bytree=0.4, learning_rate=10, max_depth=6, min_child_weight=20;, score=0.016 total time= 2.3min\n",
      "[CV 1/3] END colsample_bytree=0.8, learning_rate=0.1, max_depth=6, min_child_weight=5;, score=0.766 total time=16.2min\n",
      "[CV 2/3] END colsample_bytree=0.8, learning_rate=0.1, max_depth=6, min_child_weight=5;, score=0.762 total time=16.1min\n",
      "[CV 3/3] END colsample_bytree=0.8, learning_rate=0.1, max_depth=6, min_child_weight=5;, score=0.756 total time=15.8min\n",
      "[CV 1/3] END colsample_bytree=1.0, learning_rate=0.1, max_depth=6, min_child_weight=10;, score=0.763 total time=17.4min\n",
      "[CV 2/3] END colsample_bytree=1.0, learning_rate=0.1, max_depth=6, min_child_weight=10;, score=0.765 total time=17.0min\n",
      "[CV 3/3] END colsample_bytree=1.0, learning_rate=0.1, max_depth=6, min_child_weight=10;, score=0.758 total time=17.0min\n",
      "[CV 2/3] END colsample_bytree=1.0, learning_rate=0.1, max_depth=6, min_child_weight=5;, score=0.770 total time=16.4min\n",
      "[CV 1/3] END colsample_bytree=1.0, learning_rate=0.1, max_depth=6, min_child_weight=5;, score=0.769 total time=16.4min\n",
      "[CV 3/3] END colsample_bytree=1.0, learning_rate=0.1, max_depth=6, min_child_weight=5;, score=0.766 total time=16.1min\n"
     ]
    },
    {
     "data": {
      "text/plain": [
       "RandomizedSearchCV(cv=<generator object _BaseKFold.split at 0x7fede4d17820>,\n",
       "                   estimator=XGBClassifier(base_score=0.5, booster='gbtree',\n",
       "                                           callbacks=None, colsample_bylevel=1,\n",
       "                                           colsample_bynode=1,\n",
       "                                           colsample_bytree=1,\n",
       "                                           early_stopping_rounds=None,\n",
       "                                           enable_categorical=False,\n",
       "                                           eval_metric=None, gamma=0, gpu_id=-1,\n",
       "                                           grow_policy='depthwise',\n",
       "                                           importance_type=None,\n",
       "                                           interaction_const...\n",
       "                                           max_leaves=0, min_child_weight=1,\n",
       "                                           missing=nan,\n",
       "                                           monotone_constraints='()',\n",
       "                                           n_estimators=100, n_jobs=0,\n",
       "                                           num_parallel_tree=1,\n",
       "                                           predictor='auto', random_state=0,\n",
       "                                           reg_alpha=0, reg_lambda=1, ...),\n",
       "                   n_jobs=-1,\n",
       "                   param_distributions={'colsample_bytree': [0.4, 0.8, 1.0],\n",
       "                                        'learning_rate': [0.1, 1.0, 10],\n",
       "                                        'max_depth': [5, 6, 7],\n",
       "                                        'min_child_weight': [1, 5, 10, 20]},\n",
       "                   random_state=1001, scoring='f1', verbose=3)"
      ]
     },
     "execution_count": 184,
     "metadata": {},
     "output_type": "execute_result"
    }
   ],
   "source": [
    "random_search.fit(df_train2_x_rf, df_train2_y)"
   ]
  },
  {
   "cell_type": "code",
   "execution_count": 185,
   "metadata": {},
   "outputs": [
    {
     "data": {
      "text/plain": [
       "XGBClassifier(base_score=0.5, booster='gbtree', callbacks=None,\n",
       "              colsample_bylevel=1, colsample_bynode=1, colsample_bytree=0.8,\n",
       "              early_stopping_rounds=None, enable_categorical=False,\n",
       "              eval_metric=None, gamma=0, gpu_id=-1, grow_policy='depthwise',\n",
       "              importance_type=None, interaction_constraints='',\n",
       "              learning_rate=1.0, max_bin=256, max_cat_to_onehot=4,\n",
       "              max_delta_step=0, max_depth=6, max_leaves=0, min_child_weight=20,\n",
       "              missing=nan, monotone_constraints='()', n_estimators=100,\n",
       "              n_jobs=0, num_parallel_tree=1, predictor='auto', random_state=0,\n",
       "              reg_alpha=0, reg_lambda=1, ...)"
      ]
     },
     "execution_count": 185,
     "metadata": {},
     "output_type": "execute_result"
    }
   ],
   "source": [
    "random_search.best_estimator_"
   ]
  },
  {
   "cell_type": "code",
   "execution_count": 186,
   "metadata": {},
   "outputs": [
    {
     "data": {
      "text/plain": [
       "{'min_child_weight': 20,\n",
       " 'max_depth': 6,\n",
       " 'learning_rate': 1.0,\n",
       " 'colsample_bytree': 0.8}"
      ]
     },
     "execution_count": 186,
     "metadata": {},
     "output_type": "execute_result"
    }
   ],
   "source": [
    "random_search.best_params_"
   ]
  },
  {
   "cell_type": "code",
   "execution_count": 187,
   "metadata": {},
   "outputs": [],
   "source": [
    "xg_update=xgb.XGBClassifier(colsample_bytree=0.8, learning_rate=1.0, max_depth=6, min_child_weight=20)"
   ]
  },
  {
   "cell_type": "code",
   "execution_count": 188,
   "metadata": {},
   "outputs": [
    {
     "data": {
      "text/plain": [
       "XGBClassifier(base_score=0.5, booster='gbtree', callbacks=None,\n",
       "              colsample_bylevel=1, colsample_bynode=1, colsample_bytree=0.8,\n",
       "              early_stopping_rounds=None, enable_categorical=False,\n",
       "              eval_metric=None, gamma=0, gpu_id=-1, grow_policy='depthwise',\n",
       "              importance_type=None, interaction_constraints='',\n",
       "              learning_rate=1.0, max_bin=256, max_cat_to_onehot=4,\n",
       "              max_delta_step=0, max_depth=6, max_leaves=0, min_child_weight=20,\n",
       "              missing=nan, monotone_constraints='()', n_estimators=100,\n",
       "              n_jobs=0, num_parallel_tree=1, predictor='auto', random_state=0,\n",
       "              reg_alpha=0, reg_lambda=1, ...)"
      ]
     },
     "execution_count": 188,
     "metadata": {},
     "output_type": "execute_result"
    }
   ],
   "source": [
    "xg_update.fit(df_train2_x_rf, df_train2_y)"
   ]
  },
  {
   "cell_type": "code",
   "execution_count": 189,
   "metadata": {},
   "outputs": [
    {
     "data": {
      "text/html": [
       "<div>\n",
       "<style scoped>\n",
       "    .dataframe tbody tr th:only-of-type {\n",
       "        vertical-align: middle;\n",
       "    }\n",
       "\n",
       "    .dataframe tbody tr th {\n",
       "        vertical-align: top;\n",
       "    }\n",
       "\n",
       "    .dataframe thead th {\n",
       "        text-align: right;\n",
       "    }\n",
       "</style>\n",
       "<table border=\"1\" class=\"dataframe\">\n",
       "  <thead>\n",
       "    <tr style=\"text-align: right;\">\n",
       "      <th></th>\n",
       "      <th>0</th>\n",
       "    </tr>\n",
       "  </thead>\n",
       "  <tbody>\n",
       "    <tr>\n",
       "      <th>accuracy</th>\n",
       "      <td>0.975681</td>\n",
       "    </tr>\n",
       "    <tr>\n",
       "      <th>recall</th>\n",
       "      <td>0.685257</td>\n",
       "    </tr>\n",
       "    <tr>\n",
       "      <th>precision</th>\n",
       "      <td>0.565714</td>\n",
       "    </tr>\n",
       "    <tr>\n",
       "      <th>roc_auc_score</th>\n",
       "      <td>0.834794</td>\n",
       "    </tr>\n",
       "    <tr>\n",
       "      <th>F1_score</th>\n",
       "      <td>0.619774</td>\n",
       "    </tr>\n",
       "  </tbody>\n",
       "</table>\n",
       "</div>"
      ],
      "text/plain": [
       "                      0\n",
       "accuracy       0.975681\n",
       "recall         0.685257\n",
       "precision      0.565714\n",
       "roc_auc_score  0.834794\n",
       "F1_score       0.619774"
      ]
     },
     "execution_count": 189,
     "metadata": {},
     "output_type": "execute_result"
    }
   ],
   "source": [
    "predict_xgb_update=xg_update.predict(df_val_x_rf)\n",
    "\n",
    "pd.DataFrame(data=[accuracy_score(df_val_y, predict_xgb_update), recall_score(df_val_y, predict_xgb_update),\n",
    "                   precision_score(df_val_y, predict_xgb_update), roc_auc_score(df_val_y, predict_xgb_update),f1_score(df_val_y, predict_xgb_update)], \n",
    "             index=[\"accuracy\", \"recall\", \"precision\", \"roc_auc_score\",'F1_score'])"
   ]
  },
  {
   "cell_type": "code",
   "execution_count": 134,
   "metadata": {},
   "outputs": [],
   "source": [
    "random_search2 = RandomizedSearchCV(xg_reg, param_distributions=params, n_iter=15, scoring='f1', n_jobs=4, cv=5, verbose=3, random_state=1001 )"
   ]
  },
  {
   "cell_type": "code",
   "execution_count": 136,
   "metadata": {},
   "outputs": [
    {
     "name": "stdout",
     "output_type": "stream",
     "text": [
      "Fitting 5 folds for each of 15 candidates, totalling 75 fits\n",
      "[CV 4/5] END colsample_bytree=1.0, gamma=5, max_depth=3, min_child_weight=5, subsample=1.0;, score=0.838 total time= 3.0min\n",
      "[CV 1/5] END colsample_bytree=1.0, gamma=5, max_depth=3, min_child_weight=5, subsample=1.0;, score=0.656 total time= 3.0min\n",
      "[CV 2/5] END colsample_bytree=1.0, gamma=5, max_depth=3, min_child_weight=5, subsample=1.0;, score=0.823 total time= 3.0min\n",
      "[CV 3/5] END colsample_bytree=1.0, gamma=5, max_depth=3, min_child_weight=5, subsample=1.0;, score=0.868 total time= 3.0min\n",
      "[CV 5/5] END colsample_bytree=1.0, gamma=5, max_depth=3, min_child_weight=5, subsample=1.0;, score=0.848 total time= 2.8min\n",
      "[CV 1/5] END colsample_bytree=0.8, gamma=1.5, max_depth=5, min_child_weight=1, subsample=0.6;, score=0.860 total time= 3.7min\n",
      "[CV 2/5] END colsample_bytree=0.8, gamma=1.5, max_depth=5, min_child_weight=1, subsample=0.6;, score=0.814 total time= 3.7min\n",
      "[CV 3/5] END colsample_bytree=0.8, gamma=1.5, max_depth=5, min_child_weight=1, subsample=0.6;, score=0.796 total time= 3.7min\n",
      "[CV 4/5] END colsample_bytree=0.8, gamma=1.5, max_depth=5, min_child_weight=1, subsample=0.6;, score=0.865 total time= 3.7min\n",
      "[CV 5/5] END colsample_bytree=0.8, gamma=1.5, max_depth=5, min_child_weight=1, subsample=0.6;, score=0.855 total time= 3.6min\n",
      "[CV 2/5] END colsample_bytree=0.8, gamma=1, max_depth=5, min_child_weight=5, subsample=0.8;, score=0.807 total time= 3.7min\n",
      "[CV 1/5] END colsample_bytree=0.8, gamma=1, max_depth=5, min_child_weight=5, subsample=0.8;, score=0.868 total time= 3.7min\n",
      "[CV 3/5] END colsample_bytree=0.8, gamma=1, max_depth=5, min_child_weight=5, subsample=0.8;, score=0.828 total time= 3.6min\n",
      "[CV 1/5] END colsample_bytree=0.6, gamma=5, max_depth=5, min_child_weight=5, subsample=1.0;, score=0.894 total time= 2.9min\n",
      "[CV 4/5] END colsample_bytree=0.8, gamma=1, max_depth=5, min_child_weight=5, subsample=0.8;, score=0.849 total time= 3.7min\n",
      "[CV 5/5] END colsample_bytree=0.8, gamma=1, max_depth=5, min_child_weight=5, subsample=0.8;, score=0.858 total time= 3.6min\n",
      "[CV 2/5] END colsample_bytree=0.6, gamma=5, max_depth=5, min_child_weight=5, subsample=1.0;, score=0.827 total time= 2.8min\n",
      "[CV 3/5] END colsample_bytree=0.6, gamma=5, max_depth=5, min_child_weight=5, subsample=1.0;, score=0.820 total time= 2.8min\n",
      "[CV 4/5] END colsample_bytree=0.6, gamma=5, max_depth=5, min_child_weight=5, subsample=1.0;, score=0.848 total time= 2.8min\n",
      "[CV 5/5] END colsample_bytree=0.6, gamma=5, max_depth=5, min_child_weight=5, subsample=1.0;, score=0.851 total time= 2.8min\n",
      "[CV 1/5] END colsample_bytree=1.0, gamma=1, max_depth=4, min_child_weight=1, subsample=0.8;, score=0.823 total time= 3.5min\n",
      "[CV 2/5] END colsample_bytree=1.0, gamma=1, max_depth=4, min_child_weight=1, subsample=0.8;, score=0.830 total time= 3.5min\n",
      "[CV 3/5] END colsample_bytree=1.0, gamma=1, max_depth=4, min_child_weight=1, subsample=0.8;, score=0.828 total time= 3.5min\n",
      "[CV 4/5] END colsample_bytree=1.0, gamma=1, max_depth=4, min_child_weight=1, subsample=0.8;, score=0.847 total time= 3.5min\n",
      "[CV 1/5] END colsample_bytree=0.6, gamma=1.5, max_depth=4, min_child_weight=10, subsample=1.0;, score=0.861 total time= 2.3min\n",
      "[CV 2/5] END colsample_bytree=0.6, gamma=1.5, max_depth=4, min_child_weight=10, subsample=1.0;, score=0.824 total time= 2.3min\n",
      "[CV 3/5] END colsample_bytree=0.6, gamma=1.5, max_depth=4, min_child_weight=10, subsample=1.0;, score=0.808 total time= 2.3min\n",
      "[CV 5/5] END colsample_bytree=1.0, gamma=1, max_depth=4, min_child_weight=1, subsample=0.8;, score=0.854 total time= 3.5min\n",
      "[CV 4/5] END colsample_bytree=0.6, gamma=1.5, max_depth=4, min_child_weight=10, subsample=1.0;, score=0.840 total time= 7.4min\n",
      "[CV 5/5] END colsample_bytree=0.6, gamma=1.5, max_depth=4, min_child_weight=10, subsample=1.0;, score=0.841 total time= 7.4min\n",
      "[CV 1/5] END colsample_bytree=0.6, gamma=5, max_depth=5, min_child_weight=1, subsample=1.0;, score=0.856 total time= 8.0min\n",
      "[CV 2/5] END colsample_bytree=0.6, gamma=5, max_depth=5, min_child_weight=1, subsample=1.0;, score=0.832 total time= 8.0min\n",
      "[CV 3/5] END colsample_bytree=0.6, gamma=5, max_depth=5, min_child_weight=1, subsample=1.0;, score=0.829 total time= 2.9min\n",
      "[CV 4/5] END colsample_bytree=0.6, gamma=5, max_depth=5, min_child_weight=1, subsample=1.0;, score=0.846 total time= 2.8min\n",
      "[CV 1/5] END colsample_bytree=0.8, gamma=2, max_depth=3, min_child_weight=1, subsample=0.8;, score=0.674 total time= 2.2min\n",
      "[CV 5/5] END colsample_bytree=0.6, gamma=5, max_depth=5, min_child_weight=1, subsample=1.0;, score=0.845 total time= 2.9min\n",
      "[CV 2/5] END colsample_bytree=0.8, gamma=2, max_depth=3, min_child_weight=1, subsample=0.8;, score=0.823 total time= 2.2min\n",
      "[CV 3/5] END colsample_bytree=0.8, gamma=2, max_depth=3, min_child_weight=1, subsample=0.8;, score=0.834 total time= 2.2min\n",
      "[CV 4/5] END colsample_bytree=0.8, gamma=2, max_depth=3, min_child_weight=1, subsample=0.8;, score=0.824 total time= 2.2min\n",
      "[CV 5/5] END colsample_bytree=0.8, gamma=2, max_depth=3, min_child_weight=1, subsample=0.8;, score=0.831 total time= 2.2min\n",
      "[CV 1/5] END colsample_bytree=0.6, gamma=0.5, max_depth=5, min_child_weight=1, subsample=0.8;, score=0.850 total time= 2.9min\n",
      "[CV 2/5] END colsample_bytree=0.6, gamma=0.5, max_depth=5, min_child_weight=1, subsample=0.8;, score=0.804 total time= 2.9min\n",
      "[CV 3/5] END colsample_bytree=0.6, gamma=0.5, max_depth=5, min_child_weight=1, subsample=0.8;, score=0.819 total time= 2.9min\n",
      "[CV 4/5] END colsample_bytree=0.6, gamma=0.5, max_depth=5, min_child_weight=1, subsample=0.8;, score=0.862 total time= 2.9min\n",
      "[CV 5/5] END colsample_bytree=0.6, gamma=0.5, max_depth=5, min_child_weight=1, subsample=0.8;, score=0.852 total time= 2.8min\n",
      "[CV 1/5] END colsample_bytree=0.6, gamma=1.5, max_depth=4, min_child_weight=1, subsample=0.8;, score=0.786 total time= 2.3min\n",
      "[CV 2/5] END colsample_bytree=0.6, gamma=1.5, max_depth=4, min_child_weight=1, subsample=0.8;, score=0.819 total time= 2.3min\n",
      "[CV 3/5] END colsample_bytree=0.6, gamma=1.5, max_depth=4, min_child_weight=1, subsample=0.8;, score=0.847 total time= 2.3min\n",
      "[CV 4/5] END colsample_bytree=0.6, gamma=1.5, max_depth=4, min_child_weight=1, subsample=0.8;, score=0.831 total time= 2.3min\n",
      "[CV 5/5] END colsample_bytree=0.6, gamma=1.5, max_depth=4, min_child_weight=1, subsample=0.8;, score=0.848 total time= 2.3min\n",
      "[CV 1/5] END colsample_bytree=0.8, gamma=0.5, max_depth=4, min_child_weight=1, subsample=1.0;, score=0.843 total time= 2.9min\n",
      "[CV 2/5] END colsample_bytree=0.8, gamma=0.5, max_depth=4, min_child_weight=1, subsample=1.0;, score=0.836 total time= 3.0min\n",
      "[CV 3/5] END colsample_bytree=0.8, gamma=0.5, max_depth=4, min_child_weight=1, subsample=1.0;, score=0.837 total time= 2.9min\n",
      "[CV 4/5] END colsample_bytree=0.8, gamma=0.5, max_depth=4, min_child_weight=1, subsample=1.0;, score=0.848 total time= 2.9min\n",
      "[CV 5/5] END colsample_bytree=0.8, gamma=0.5, max_depth=4, min_child_weight=1, subsample=1.0;, score=0.841 total time= 2.9min\n",
      "[CV 1/5] END colsample_bytree=1.0, gamma=1.5, max_depth=3, min_child_weight=10, subsample=1.0;, score=0.891 total time= 2.7min\n",
      "[CV 2/5] END colsample_bytree=1.0, gamma=1.5, max_depth=3, min_child_weight=10, subsample=1.0;, score=0.819 total time= 3.9min\n",
      "[CV 3/5] END colsample_bytree=1.0, gamma=1.5, max_depth=3, min_child_weight=10, subsample=1.0;, score=0.848 total time= 3.8min\n",
      "[CV 4/5] END colsample_bytree=1.0, gamma=1.5, max_depth=3, min_child_weight=10, subsample=1.0;, score=0.835 total time= 3.8min\n",
      "[CV 5/5] END colsample_bytree=1.0, gamma=1.5, max_depth=3, min_child_weight=10, subsample=1.0;, score=0.847 total time= 3.8min\n",
      "[CV 1/5] END colsample_bytree=0.6, gamma=1, max_depth=5, min_child_weight=10, subsample=0.6;, score=0.867 total time= 2.6min\n",
      "[CV 2/5] END colsample_bytree=0.6, gamma=1, max_depth=5, min_child_weight=10, subsample=0.6;, score=0.828 total time= 2.6min\n",
      "[CV 3/5] END colsample_bytree=0.6, gamma=1, max_depth=5, min_child_weight=10, subsample=0.6;, score=0.839 total time= 2.6min\n",
      "[CV 4/5] END colsample_bytree=0.6, gamma=1, max_depth=5, min_child_weight=10, subsample=0.6;, score=0.868 total time= 2.6min\n",
      "[CV 5/5] END colsample_bytree=0.6, gamma=1, max_depth=5, min_child_weight=10, subsample=0.6;, score=0.853 total time= 2.6min\n",
      "[CV 1/5] END colsample_bytree=1.0, gamma=0.5, max_depth=5, min_child_weight=5, subsample=1.0;, score=0.878 total time= 4.1min\n",
      "[CV 2/5] END colsample_bytree=1.0, gamma=0.5, max_depth=5, min_child_weight=5, subsample=1.0;, score=0.824 total time= 4.1min\n",
      "[CV 3/5] END colsample_bytree=1.0, gamma=0.5, max_depth=5, min_child_weight=5, subsample=1.0;, score=0.820 total time= 4.2min\n",
      "[CV 4/5] END colsample_bytree=1.0, gamma=0.5, max_depth=5, min_child_weight=5, subsample=1.0;, score=0.851 total time= 4.2min\n",
      "[CV 5/5] END colsample_bytree=1.0, gamma=0.5, max_depth=5, min_child_weight=5, subsample=1.0;, score=0.843 total time= 7.0min\n",
      "[CV 1/5] END colsample_bytree=1.0, gamma=0.5, max_depth=5, min_child_weight=1, subsample=1.0;, score=0.800 total time= 7.0min\n",
      "[CV 2/5] END colsample_bytree=1.0, gamma=0.5, max_depth=5, min_child_weight=1, subsample=1.0;, score=0.830 total time= 7.0min\n",
      "[CV 3/5] END colsample_bytree=1.0, gamma=0.5, max_depth=5, min_child_weight=1, subsample=1.0;, score=0.811 total time= 6.7min\n",
      "[CV 4/5] END colsample_bytree=1.0, gamma=0.5, max_depth=5, min_child_weight=1, subsample=1.0;, score=0.847 total time= 3.2min\n",
      "[CV 5/5] END colsample_bytree=1.0, gamma=0.5, max_depth=5, min_child_weight=1, subsample=1.0;, score=0.862 total time= 2.8min\n"
     ]
    },
    {
     "data": {
      "text/plain": [
       "RandomizedSearchCV(cv=5,\n",
       "                   estimator=XGBClassifier(base_score=0.5, booster='gbtree',\n",
       "                                           callbacks=None, colsample_bylevel=1,\n",
       "                                           colsample_bynode=1,\n",
       "                                           colsample_bytree=1,\n",
       "                                           early_stopping_rounds=None,\n",
       "                                           enable_categorical=False,\n",
       "                                           eval_metric=None, gamma=0, gpu_id=-1,\n",
       "                                           grow_policy='depthwise',\n",
       "                                           importance_type=None,\n",
       "                                           interaction_constraints='',\n",
       "                                           learning_rate=0.300000012,\n",
       "                                           max_bin=256,...\n",
       "                                           monotone_constraints='()',\n",
       "                                           n_estimators=100, n_jobs=0,\n",
       "                                           num_parallel_tree=1,\n",
       "                                           predictor='auto', random_state=0,\n",
       "                                           reg_alpha=0, reg_lambda=1, ...),\n",
       "                   n_iter=15, n_jobs=4,\n",
       "                   param_distributions={'colsample_bytree': [0.6, 0.8, 1.0],\n",
       "                                        'gamma': [0.5, 1, 1.5, 2, 5],\n",
       "                                        'max_depth': [3, 4, 5],\n",
       "                                        'min_child_weight': [1, 5, 10],\n",
       "                                        'subsample': [0.6, 0.8, 1.0]},\n",
       "                   random_state=1001, scoring='roc_auc', verbose=3)"
      ]
     },
     "execution_count": 136,
     "metadata": {},
     "output_type": "execute_result"
    }
   ],
   "source": [
    "random_search2.fit(df_train2_x_rf, df_train2_y)"
   ]
  },
  {
   "cell_type": "code",
   "execution_count": 137,
   "metadata": {},
   "outputs": [
    {
     "data": {
      "text/plain": [
       "{'subsample': 0.6,\n",
       " 'min_child_weight': 10,\n",
       " 'max_depth': 5,\n",
       " 'gamma': 1,\n",
       " 'colsample_bytree': 0.6}"
      ]
     },
     "execution_count": 137,
     "metadata": {},
     "output_type": "execute_result"
    }
   ],
   "source": [
    "random_search2.best_params_"
   ]
  },
  {
   "cell_type": "code",
   "execution_count": 139,
   "metadata": {},
   "outputs": [],
   "source": [
    "xg_update=xgb.XGBClassifier(colsample_bytree=0.6, gamma=1.5, max_depth=5, min_child_weight=10, subsample=0.6)"
   ]
  },
  {
   "cell_type": "code",
   "execution_count": 140,
   "metadata": {},
   "outputs": [
    {
     "data": {
      "text/html": [
       "<div>\n",
       "<style scoped>\n",
       "    .dataframe tbody tr th:only-of-type {\n",
       "        vertical-align: middle;\n",
       "    }\n",
       "\n",
       "    .dataframe tbody tr th {\n",
       "        vertical-align: top;\n",
       "    }\n",
       "\n",
       "    .dataframe thead th {\n",
       "        text-align: right;\n",
       "    }\n",
       "</style>\n",
       "<table border=\"1\" class=\"dataframe\">\n",
       "  <thead>\n",
       "    <tr style=\"text-align: right;\">\n",
       "      <th></th>\n",
       "      <th>0</th>\n",
       "    </tr>\n",
       "  </thead>\n",
       "  <tbody>\n",
       "    <tr>\n",
       "      <th>accuracy</th>\n",
       "      <td>0.988308</td>\n",
       "    </tr>\n",
       "    <tr>\n",
       "      <th>recall</th>\n",
       "      <td>0.604074</td>\n",
       "    </tr>\n",
       "    <tr>\n",
       "      <th>precision</th>\n",
       "      <td>0.986436</td>\n",
       "    </tr>\n",
       "    <tr>\n",
       "      <th>roc_auc_score</th>\n",
       "      <td>0.801913</td>\n",
       "    </tr>\n",
       "    <tr>\n",
       "      <th>F1_score</th>\n",
       "      <td>0.749295</td>\n",
       "    </tr>\n",
       "  </tbody>\n",
       "</table>\n",
       "</div>"
      ],
      "text/plain": [
       "                      0\n",
       "accuracy       0.988308\n",
       "recall         0.604074\n",
       "precision      0.986436\n",
       "roc_auc_score  0.801913\n",
       "F1_score       0.749295"
      ]
     },
     "execution_count": 140,
     "metadata": {},
     "output_type": "execute_result"
    }
   ],
   "source": [
    "xg_update.fit(df_train2_x_rf, df_train2_y)\n",
    "predict_xgb_update=xg_update.predict(df_val_x_rf)\n",
    "\n",
    "pd.DataFrame(data=[accuracy_score(df_val_y, predict_xgb_update), recall_score(df_val_y, predict_xgb_update),\n",
    "                   precision_score(df_val_y, predict_xgb_update), roc_auc_score(df_val_y, predict_xgb_update),f1_score(df_val_y, predict_xgb_update)], \n",
    "             index=[\"accuracy\", \"recall\", \"precision\", \"roc_auc_score\",'F1_score'])"
   ]
  },
  {
   "cell_type": "code",
   "execution_count": 123,
   "metadata": {},
   "outputs": [],
   "source": [
    "params2= {\n",
    "'max_depth': [5,6,7],\n",
    "'learning_rate': [0.01,0.1, 1.0],\n",
    "\"colsample_bytree\": [0.4,0.8,1.0],\n",
    "\"min_child_weight\": [1, 5, 10, 20]\n",
    "}\n",
    "\n",
    "params3= {\n",
    "'max_depth': [5,6,7],\n",
    "'learning_rate': [0.01,0.1, 1.0],\n",
    "\"colsample_bytree\": [0.4,0.8,1.0],\n",
    "\"min_child_weight\": [1, 5, 10, 20]\n",
    "}"
   ]
  },
  {
   "cell_type": "code",
   "execution_count": 137,
   "metadata": {},
   "outputs": [],
   "source": [
    "#used a range of a bunch of parameters that were demonstrated to be most important here: \n",
    "random_search3 = RandomizedSearchCV(xg_reg, param_distributions=params2, n_iter=15, scoring='f1', n_jobs=4, cv=5, verbose=3, random_state=1001 )"
   ]
  },
  {
   "cell_type": "code",
   "execution_count": 138,
   "metadata": {},
   "outputs": [
    {
     "name": "stdout",
     "output_type": "stream",
     "text": [
      "Fitting 5 folds for each of 15 candidates, totalling 75 fits\n",
      "[CV 4/5] END colsample_bytree=0.4, learning_rate=0.01, max_depth=5, min_child_weight=20;, score=0.076 total time= 1.7min\n",
      "[CV 2/5] END colsample_bytree=0.4, learning_rate=0.01, max_depth=5, min_child_weight=20;, score=0.100 total time= 1.7min\n",
      "[CV 3/5] END colsample_bytree=0.4, learning_rate=0.01, max_depth=5, min_child_weight=20;, score=0.265 total time= 1.7min\n",
      "[CV 1/5] END colsample_bytree=0.4, learning_rate=0.01, max_depth=5, min_child_weight=20;, score=0.253 total time= 1.7min\n",
      "[CV 5/5] END colsample_bytree=0.4, learning_rate=0.01, max_depth=5, min_child_weight=20;, score=0.050 total time= 1.6min\n",
      "[CV 1/5] END colsample_bytree=0.4, learning_rate=0.01, max_depth=6, min_child_weight=20;, score=0.268 total time= 1.9min\n",
      "[CV 2/5] END colsample_bytree=0.4, learning_rate=0.01, max_depth=6, min_child_weight=20;, score=0.100 total time= 1.9min\n",
      "[CV 3/5] END colsample_bytree=0.4, learning_rate=0.01, max_depth=6, min_child_weight=20;, score=0.231 total time= 1.9min\n",
      "[CV 4/5] END colsample_bytree=0.4, learning_rate=0.01, max_depth=6, min_child_weight=20;, score=0.083 total time= 1.9min\n",
      "[CV 5/5] END colsample_bytree=0.4, learning_rate=0.01, max_depth=6, min_child_weight=20;, score=0.050 total time= 1.9min\n",
      "[CV 1/5] END colsample_bytree=1.0, learning_rate=0.01, max_depth=5, min_child_weight=10;, score=0.791 total time= 3.4min\n",
      "[CV 2/5] END colsample_bytree=1.0, learning_rate=0.01, max_depth=5, min_child_weight=10;, score=0.736 total time= 3.4min\n",
      "[CV 3/5] END colsample_bytree=1.0, learning_rate=0.01, max_depth=5, min_child_weight=10;, score=0.609 total time= 3.5min\n",
      "[CV 4/5] END colsample_bytree=1.0, learning_rate=0.01, max_depth=5, min_child_weight=10;, score=0.679 total time= 3.5min\n",
      "[CV 5/5] END colsample_bytree=1.0, learning_rate=0.01, max_depth=5, min_child_weight=10;, score=0.675 total time= 3.4min\n",
      "[CV 1/5] END colsample_bytree=1.0, learning_rate=0.01, max_depth=5, min_child_weight=20;, score=0.791 total time= 3.4min\n",
      "[CV 2/5] END colsample_bytree=1.0, learning_rate=0.01, max_depth=5, min_child_weight=20;, score=0.736 total time= 3.4min\n",
      "[CV 3/5] END colsample_bytree=1.0, learning_rate=0.01, max_depth=5, min_child_weight=20;, score=0.671 total time= 3.4min\n",
      "[CV 4/5] END colsample_bytree=1.0, learning_rate=0.01, max_depth=5, min_child_weight=20;, score=0.679 total time= 3.3min\n",
      "[CV 5/5] END colsample_bytree=1.0, learning_rate=0.01, max_depth=5, min_child_weight=20;, score=0.685 total time= 3.3min\n",
      "[CV 1/5] END colsample_bytree=0.4, learning_rate=0.1, max_depth=7, min_child_weight=1;, score=0.779 total time= 2.3min\n",
      "[CV 2/5] END colsample_bytree=0.4, learning_rate=0.1, max_depth=7, min_child_weight=1;, score=0.721 total time= 2.2min\n",
      "[CV 4/5] END colsample_bytree=0.4, learning_rate=0.1, max_depth=7, min_child_weight=1;, score=0.584 total time= 2.4min\n",
      "[CV 3/5] END colsample_bytree=0.4, learning_rate=0.1, max_depth=7, min_child_weight=1;, score=0.610 total time= 2.4min\n",
      "[CV 5/5] END colsample_bytree=0.4, learning_rate=0.1, max_depth=7, min_child_weight=1;, score=0.657 total time= 2.4min\n",
      "[CV 1/5] END colsample_bytree=0.8, learning_rate=0.1, max_depth=6, min_child_weight=20;, score=0.775 total time= 3.4min\n",
      "[CV 3/5] END colsample_bytree=0.8, learning_rate=0.1, max_depth=6, min_child_weight=20;, score=0.633 total time= 3.4min\n",
      "[CV 2/5] END colsample_bytree=0.8, learning_rate=0.1, max_depth=6, min_child_weight=20;, score=0.658 total time= 3.4min\n",
      "[CV 4/5] END colsample_bytree=0.8, learning_rate=0.1, max_depth=6, min_child_weight=20;, score=0.598 total time= 3.5min\n",
      "[CV 5/5] END colsample_bytree=0.8, learning_rate=0.1, max_depth=6, min_child_weight=20;, score=0.662 total time= 3.7min\n",
      "[CV 1/5] END colsample_bytree=0.8, learning_rate=0.01, max_depth=6, min_child_weight=5;, score=0.789 total time= 3.8min\n",
      "[CV 2/5] END colsample_bytree=0.8, learning_rate=0.01, max_depth=6, min_child_weight=5;, score=0.736 total time= 3.8min\n",
      "[CV 3/5] END colsample_bytree=0.8, learning_rate=0.01, max_depth=6, min_child_weight=5;, score=0.600 total time= 3.8min\n",
      "[CV 4/5] END colsample_bytree=0.8, learning_rate=0.01, max_depth=6, min_child_weight=5;, score=0.676 total time= 3.6min\n",
      "[CV 5/5] END colsample_bytree=0.8, learning_rate=0.01, max_depth=6, min_child_weight=5;, score=0.663 total time= 3.5min\n",
      "[CV 1/5] END colsample_bytree=1.0, learning_rate=0.01, max_depth=6, min_child_weight=10;, score=0.785 total time= 4.3min\n",
      "[CV 2/5] END colsample_bytree=1.0, learning_rate=0.01, max_depth=6, min_child_weight=10;, score=0.736 total time= 4.3min\n",
      "[CV 3/5] END colsample_bytree=1.0, learning_rate=0.01, max_depth=6, min_child_weight=10;, score=0.608 total time= 4.3min\n",
      "[CV 4/5] END colsample_bytree=1.0, learning_rate=0.01, max_depth=6, min_child_weight=10;, score=0.678 total time= 4.3min\n",
      "[CV 5/5] END colsample_bytree=1.0, learning_rate=0.01, max_depth=6, min_child_weight=10;, score=0.675 total time= 4.2min\n",
      "[CV 1/5] END colsample_bytree=1.0, learning_rate=0.01, max_depth=6, min_child_weight=5;, score=0.786 total time= 4.4min\n",
      "[CV 2/5] END colsample_bytree=1.0, learning_rate=0.01, max_depth=6, min_child_weight=5;, score=0.736 total time= 4.3min\n",
      "[CV 3/5] END colsample_bytree=1.0, learning_rate=0.01, max_depth=6, min_child_weight=5;, score=0.583 total time= 4.1min\n",
      "[CV 1/5] END colsample_bytree=0.4, learning_rate=1.0, max_depth=6, min_child_weight=20;, score=0.401 total time= 1.9min\n",
      "[CV 4/5] END colsample_bytree=1.0, learning_rate=0.01, max_depth=6, min_child_weight=5;, score=0.678 total time= 4.1min\n",
      "[CV 5/5] END colsample_bytree=1.0, learning_rate=0.01, max_depth=6, min_child_weight=5;, score=0.661 total time= 3.9min\n",
      "[CV 2/5] END colsample_bytree=0.4, learning_rate=1.0, max_depth=6, min_child_weight=20;, score=0.569 total time= 1.9min\n",
      "[CV 3/5] END colsample_bytree=0.4, learning_rate=1.0, max_depth=6, min_child_weight=20;, score=0.435 total time= 1.9min\n",
      "[CV 4/5] END colsample_bytree=0.4, learning_rate=1.0, max_depth=6, min_child_weight=20;, score=0.519 total time= 1.9min\n",
      "[CV 5/5] END colsample_bytree=0.4, learning_rate=1.0, max_depth=6, min_child_weight=20;, score=0.571 total time= 2.0min\n",
      "[CV 1/5] END colsample_bytree=0.4, learning_rate=0.1, max_depth=5, min_child_weight=20;, score=0.777 total time= 1.6min\n",
      "[CV 2/5] END colsample_bytree=0.4, learning_rate=0.1, max_depth=5, min_child_weight=20;, score=0.736 total time= 1.6min\n",
      "[CV 3/5] END colsample_bytree=0.4, learning_rate=0.1, max_depth=5, min_child_weight=20;, score=0.612 total time= 1.6min\n",
      "[CV 4/5] END colsample_bytree=0.4, learning_rate=0.1, max_depth=5, min_child_weight=20;, score=0.610 total time= 1.7min\n",
      "[CV 5/5] END colsample_bytree=0.4, learning_rate=0.1, max_depth=5, min_child_weight=20;, score=0.672 total time= 1.7min\n",
      "[CV 1/5] END colsample_bytree=0.8, learning_rate=0.1, max_depth=5, min_child_weight=20;, score=0.776 total time= 3.0min\n",
      "[CV 2/5] END colsample_bytree=0.8, learning_rate=0.1, max_depth=5, min_child_weight=20;, score=0.724 total time= 3.0min\n",
      "[CV 3/5] END colsample_bytree=0.8, learning_rate=0.1, max_depth=5, min_child_weight=20;, score=0.633 total time= 3.0min\n",
      "[CV 4/5] END colsample_bytree=0.8, learning_rate=0.1, max_depth=5, min_child_weight=20;, score=0.626 total time= 2.9min\n",
      "[CV 5/5] END colsample_bytree=0.8, learning_rate=0.1, max_depth=5, min_child_weight=20;, score=0.668 total time= 2.7min\n",
      "[CV 1/5] END colsample_bytree=0.8, learning_rate=0.01, max_depth=5, min_child_weight=1;, score=0.791 total time= 2.7min\n",
      "[CV 2/5] END colsample_bytree=0.8, learning_rate=0.01, max_depth=5, min_child_weight=1;, score=0.736 total time= 2.7min\n",
      "[CV 3/5] END colsample_bytree=0.8, learning_rate=0.01, max_depth=5, min_child_weight=1;, score=0.610 total time= 2.7min\n",
      "[CV 4/5] END colsample_bytree=0.8, learning_rate=0.01, max_depth=5, min_child_weight=1;, score=0.681 total time= 2.8min\n",
      "[CV 5/5] END colsample_bytree=0.8, learning_rate=0.01, max_depth=5, min_child_weight=1;, score=0.665 total time= 2.8min\n",
      "[CV 1/5] END colsample_bytree=0.8, learning_rate=1.0, max_depth=5, min_child_weight=1;, score=0.161 total time= 2.8min\n",
      "[CV 2/5] END colsample_bytree=0.8, learning_rate=1.0, max_depth=5, min_child_weight=1;, score=0.114 total time= 2.8min\n",
      "[CV 3/5] END colsample_bytree=0.8, learning_rate=1.0, max_depth=5, min_child_weight=1;, score=0.386 total time= 3.0min\n",
      "[CV 4/5] END colsample_bytree=0.8, learning_rate=1.0, max_depth=5, min_child_weight=1;, score=0.573 total time= 3.0min\n",
      "[CV 5/5] END colsample_bytree=0.8, learning_rate=1.0, max_depth=5, min_child_weight=1;, score=0.436 total time= 3.0min\n",
      "[CV 1/5] END colsample_bytree=1.0, learning_rate=0.01, max_depth=5, min_child_weight=1;, score=0.791 total time= 3.8min\n",
      "[CV 2/5] END colsample_bytree=1.0, learning_rate=0.01, max_depth=5, min_child_weight=1;, score=0.736 total time= 3.9min\n",
      "[CV 3/5] END colsample_bytree=1.0, learning_rate=0.01, max_depth=5, min_child_weight=1;, score=0.609 total time= 3.8min\n",
      "[CV 4/5] END colsample_bytree=1.0, learning_rate=0.01, max_depth=5, min_child_weight=1;, score=0.681 total time= 3.6min\n",
      "[CV 5/5] END colsample_bytree=1.0, learning_rate=0.01, max_depth=5, min_child_weight=1;, score=0.675 total time= 2.9min\n"
     ]
    },
    {
     "data": {
      "text/plain": [
       "RandomizedSearchCV(cv=5,\n",
       "                   estimator=XGBClassifier(base_score=0.5, booster='gbtree',\n",
       "                                           callbacks=None, colsample_bylevel=1,\n",
       "                                           colsample_bynode=1,\n",
       "                                           colsample_bytree=1,\n",
       "                                           early_stopping_rounds=None,\n",
       "                                           enable_categorical=False,\n",
       "                                           eval_metric=None, gamma=0, gpu_id=-1,\n",
       "                                           grow_policy='depthwise',\n",
       "                                           importance_type=None,\n",
       "                                           interaction_constraints='',\n",
       "                                           learning_rate=0.300000012,\n",
       "                                           max_bin=256,...\n",
       "                                           max_leaves=0, min_child_weight=1,\n",
       "                                           missing=nan,\n",
       "                                           monotone_constraints='()',\n",
       "                                           n_estimators=100, n_jobs=0,\n",
       "                                           num_parallel_tree=1,\n",
       "                                           predictor='auto', random_state=0,\n",
       "                                           reg_alpha=0, reg_lambda=1, ...),\n",
       "                   n_iter=15, n_jobs=4,\n",
       "                   param_distributions={'colsample_bytree': [0.4, 0.8, 1.0],\n",
       "                                        'learning_rate': [0.01, 0.1, 1.0],\n",
       "                                        'max_depth': [5, 6, 7],\n",
       "                                        'min_child_weight': [1, 5, 10, 20]},\n",
       "                   random_state=1001, scoring='f1', verbose=3)"
      ]
     },
     "execution_count": 138,
     "metadata": {},
     "output_type": "execute_result"
    }
   ],
   "source": [
    "random_search3.fit(df_train2_x_rf, df_train2_y)"
   ]
  },
  {
   "cell_type": "code",
   "execution_count": 146,
   "metadata": {},
   "outputs": [
    {
     "name": "stdout",
     "output_type": "stream",
     "text": [
      "explained_variance\n",
      "r2\n",
      "max_error\n",
      "neg_median_absolute_error\n",
      "neg_mean_absolute_error\n",
      "neg_mean_absolute_percentage_error\n",
      "neg_mean_squared_error\n",
      "neg_mean_squared_log_error\n",
      "neg_root_mean_squared_error\n",
      "neg_mean_poisson_deviance\n",
      "neg_mean_gamma_deviance\n",
      "accuracy\n",
      "top_k_accuracy\n",
      "roc_auc\n",
      "roc_auc_ovr\n",
      "roc_auc_ovo\n",
      "roc_auc_ovr_weighted\n",
      "roc_auc_ovo_weighted\n",
      "balanced_accuracy\n",
      "average_precision\n",
      "neg_log_loss\n",
      "neg_brier_score\n",
      "adjusted_rand_score\n",
      "rand_score\n",
      "homogeneity_score\n",
      "completeness_score\n",
      "v_measure_score\n",
      "mutual_info_score\n",
      "adjusted_mutual_info_score\n",
      "normalized_mutual_info_score\n",
      "fowlkes_mallows_score\n",
      "precision\n",
      "precision_macro\n",
      "precision_micro\n",
      "precision_samples\n",
      "precision_weighted\n",
      "recall\n",
      "recall_macro\n",
      "recall_micro\n",
      "recall_samples\n",
      "recall_weighted\n",
      "f1\n",
      "f1_macro\n",
      "f1_micro\n",
      "f1_samples\n",
      "f1_weighted\n",
      "jaccard\n",
      "jaccard_macro\n",
      "jaccard_micro\n",
      "jaccard_samples\n",
      "jaccard_weighted\n"
     ]
    }
   ],
   "source": [
    "#trying to figure out what parameters to use\n",
    "import sklearn\n",
    "for metric in sklearn.metrics.SCORERS:\n",
    "    print(metric)"
   ]
  },
  {
   "cell_type": "code",
   "execution_count": 139,
   "metadata": {},
   "outputs": [
    {
     "data": {
      "text/plain": [
       "{'min_child_weight': 20,\n",
       " 'max_depth': 5,\n",
       " 'learning_rate': 0.01,\n",
       " 'colsample_bytree': 1.0}"
      ]
     },
     "execution_count": 139,
     "metadata": {},
     "output_type": "execute_result"
    }
   ],
   "source": [
    "random_search3.best_params_"
   ]
  },
  {
   "cell_type": "code",
   "execution_count": 140,
   "metadata": {},
   "outputs": [
    {
     "data": {
      "text/plain": [
       "0.7124981357584225"
      ]
     },
     "execution_count": 140,
     "metadata": {},
     "output_type": "execute_result"
    }
   ],
   "source": [
    "random_search3.best_score_ #?? Doesn't make sense"
   ]
  },
  {
   "cell_type": "code",
   "execution_count": 142,
   "metadata": {},
   "outputs": [
    {
     "data": {
      "text/html": [
       "<div>\n",
       "<style scoped>\n",
       "    .dataframe tbody tr th:only-of-type {\n",
       "        vertical-align: middle;\n",
       "    }\n",
       "\n",
       "    .dataframe tbody tr th {\n",
       "        vertical-align: top;\n",
       "    }\n",
       "\n",
       "    .dataframe thead th {\n",
       "        text-align: right;\n",
       "    }\n",
       "</style>\n",
       "<table border=\"1\" class=\"dataframe\">\n",
       "  <thead>\n",
       "    <tr style=\"text-align: right;\">\n",
       "      <th></th>\n",
       "      <th>0</th>\n",
       "    </tr>\n",
       "  </thead>\n",
       "  <tbody>\n",
       "    <tr>\n",
       "      <th>accuracy</th>\n",
       "      <td>0.987739</td>\n",
       "    </tr>\n",
       "    <tr>\n",
       "      <th>recall</th>\n",
       "      <td>0.588352</td>\n",
       "    </tr>\n",
       "    <tr>\n",
       "      <th>precision</th>\n",
       "      <td>0.979585</td>\n",
       "    </tr>\n",
       "    <tr>\n",
       "      <th>roc_auc_score</th>\n",
       "      <td>0.793993</td>\n",
       "    </tr>\n",
       "    <tr>\n",
       "      <th>F1_score</th>\n",
       "      <td>0.735158</td>\n",
       "    </tr>\n",
       "  </tbody>\n",
       "</table>\n",
       "</div>"
      ],
      "text/plain": [
       "                      0\n",
       "accuracy       0.987739\n",
       "recall         0.588352\n",
       "precision      0.979585\n",
       "roc_auc_score  0.793993\n",
       "F1_score       0.735158"
      ]
     },
     "execution_count": 142,
     "metadata": {},
     "output_type": "execute_result"
    }
   ],
   "source": [
    "#not improving over the baseline xgb model\n",
    "xg_update2=xgb.XGBClassifier(colsample_bytree=1.0,max_depth=5, min_child_weight=20, learning_rate=0.01)\n",
    "xg_update2.fit(df_train2_x_rf, df_train2_y)\n",
    "predict_xgb_update2=xg_update2.predict(df_val_x_rf)\n",
    "\n",
    "pd.DataFrame(data=[accuracy_score(df_val_y, predict_xgb_update2), recall_score(df_val_y, predict_xgb_update2),\n",
    "                   precision_score(df_val_y, predict_xgb_update2), roc_auc_score(df_val_y, predict_xgb_update2),f1_score(df_val_y, predict_xgb_update2)], \n",
    "             index=[\"accuracy\", \"recall\", \"precision\", \"roc_auc_score\",'F1_score'])"
   ]
  },
  {
   "cell_type": "code",
   "execution_count": 180,
   "metadata": {},
   "outputs": [
    {
     "name": "stdout",
     "output_type": "stream",
     "text": [
      "Number of CPUs in the system: 12\n"
     ]
    }
   ],
   "source": [
    "#trying to figure out how many jobs I should run\n",
    "import os\n",
    "  \n",
    "n_cpu = os.cpu_count()\n",
    "print(\"Number of CPUs in the system:\", n_cpu)"
   ]
  },
  {
   "cell_type": "code",
   "execution_count": 197,
   "metadata": {},
   "outputs": [
    {
     "data": {
      "text/html": [
       "<div>\n",
       "<style scoped>\n",
       "    .dataframe tbody tr th:only-of-type {\n",
       "        vertical-align: middle;\n",
       "    }\n",
       "\n",
       "    .dataframe tbody tr th {\n",
       "        vertical-align: top;\n",
       "    }\n",
       "\n",
       "    .dataframe thead th {\n",
       "        text-align: right;\n",
       "    }\n",
       "</style>\n",
       "<table border=\"1\" class=\"dataframe\">\n",
       "  <thead>\n",
       "    <tr style=\"text-align: right;\">\n",
       "      <th></th>\n",
       "      <th>0</th>\n",
       "    </tr>\n",
       "  </thead>\n",
       "  <tbody>\n",
       "    <tr>\n",
       "      <th>accuracy</th>\n",
       "      <td>0.982168</td>\n",
       "    </tr>\n",
       "    <tr>\n",
       "      <th>recall</th>\n",
       "      <td>0.722832</td>\n",
       "    </tr>\n",
       "    <tr>\n",
       "      <th>precision</th>\n",
       "      <td>0.680506</td>\n",
       "    </tr>\n",
       "    <tr>\n",
       "      <th>roc_auc_score</th>\n",
       "      <td>0.856362</td>\n",
       "    </tr>\n",
       "    <tr>\n",
       "      <th>F1_score</th>\n",
       "      <td>0.701031</td>\n",
       "    </tr>\n",
       "  </tbody>\n",
       "</table>\n",
       "</div>"
      ],
      "text/plain": [
       "                      0\n",
       "accuracy       0.982168\n",
       "recall         0.722832\n",
       "precision      0.680506\n",
       "roc_auc_score  0.856362\n",
       "F1_score       0.701031"
      ]
     },
     "execution_count": 197,
     "metadata": {},
     "output_type": "execute_result"
    }
   ],
   "source": [
    "#trying to weight the positive targets (16x b/c anomalies are 6% of data)\n",
    "xg_update3=xgb.XGBClassifier(scale_pos_weight=16)\n",
    "xg_update3.fit(df_train2_x_rf, df_train2_y)\n",
    "predict_xgb_update3=xg_update3.predict(df_val_x_rf)\n",
    "\n",
    "pd.DataFrame(data=[accuracy_score(df_val_y, predict_xgb_update3), recall_score(df_val_y, predict_xgb_update3),\n",
    "                   precision_score(df_val_y, predict_xgb_update3), roc_auc_score(df_val_y, predict_xgb_update3),f1_score(df_val_y, predict_xgb_update3)], \n",
    "             index=[\"accuracy\", \"recall\", \"precision\", \"roc_auc_score\",'F1_score'])"
   ]
  }
 ],
 "metadata": {
  "kernelspec": {
   "display_name": "Python 3.8.13 ('classification')",
   "language": "python",
   "name": "python3"
  },
  "language_info": {
   "codemirror_mode": {
    "name": "ipython",
    "version": 3
   },
   "file_extension": ".py",
   "mimetype": "text/x-python",
   "name": "python",
   "nbconvert_exporter": "python",
   "pygments_lexer": "ipython3",
   "version": "3.8.13"
  },
  "orig_nbformat": 4,
  "vscode": {
   "interpreter": {
    "hash": "b161b1c3207380de6396d2091c7e58ae16163ea816ef25fea719df5fe370bcac"
   }
  }
 },
 "nbformat": 4,
 "nbformat_minor": 2
}
