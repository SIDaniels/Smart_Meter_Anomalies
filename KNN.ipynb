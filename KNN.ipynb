{
 "cells": [
  {
   "cell_type": "code",
   "execution_count": 144,
   "metadata": {},
   "outputs": [],
   "source": [
    "import pandas as pd\n",
    "\n",
    "from sklearn.model_selection import cross_val_score\n",
    "\n",
    "from sklearn.metrics import f1_score\n",
    "from sklearn.metrics import accuracy_score, confusion_matrix, recall_score, roc_auc_score, precision_score\n",
    "\n",
    "from sklearn import metrics\n",
    "from sklearn.neighbors import KNeighborsClassifier\n",
    "from sklearn.preprocessing import StandardScaler\n",
    "\n",
    "import statsmodels.api as sm\n",
    "\n",
    "import plotly as py\n",
    "import matplotlib.pyplot as plt\n",
    "\n",
    "\n",
    "from tqdm import tqdm, trange\n",
    "import seaborn as sns\n",
    "import random\n",
    "from sklearn import preprocessing\n",
    "\n",
    "\n",
    "from sklearn.metrics import mean_squared_error\n",
    "from sklearn.metrics import confusion_matrix\n",
    "\n",
    "from pprint import pprint\n",
    "from sklearn.metrics import roc_auc_score, roc_curve\n",
    "from sklearn.model_selection import StratifiedKFold\n",
    "\n"
   ]
  },
  {
   "cell_type": "markdown",
   "metadata": {},
   "source": [
    "KNN preparation/implementation"
   ]
  },
  {
   "cell_type": "code",
   "execution_count": 193,
   "metadata": {},
   "outputs": [
    {
     "name": "stderr",
     "output_type": "stream",
     "text": [
      "/Users/sidan/opt/anaconda3/envs/classification/lib/python3.8/site-packages/sklearn/utils/validation.py:1688: FutureWarning: Feature names only support names that are all strings. Got feature names with dtypes: ['int', 'str']. An error will be raised in 1.2.\n",
      "  warnings.warn(\n",
      "/Users/sidan/opt/anaconda3/envs/classification/lib/python3.8/site-packages/sklearn/utils/validation.py:1688: FutureWarning: Feature names only support names that are all strings. Got feature names with dtypes: ['int', 'str']. An error will be raised in 1.2.\n",
      "  warnings.warn(\n",
      "/Users/sidan/opt/anaconda3/envs/classification/lib/python3.8/site-packages/sklearn/utils/validation.py:1688: FutureWarning: Feature names only support names that are all strings. Got feature names with dtypes: ['int', 'str']. An error will be raised in 1.2.\n",
      "  warnings.warn(\n"
     ]
    }
   ],
   "source": [
    "#scaling features that need it \n",
    "#https://datascience.stackexchange.com/questions/38395/standardscaler-before-or-after-splitting-data-which-is-better\n",
    "sc = StandardScaler()\n",
    "X_train = sc.fit_transform(df_train2_x)\n",
    "X_test = sc.transform (df_val_x)"
   ]
  },
  {
   "cell_type": "code",
   "execution_count": 278,
   "metadata": {},
   "outputs": [
    {
     "data": {
      "text/plain": [
       "array([[        nan, -1.00102146, -0.77959415, ..., -0.0998444 ,\n",
       "                nan, -0.89671621],\n",
       "       [        nan, -0.57056291, -0.76890914, ..., -0.0998444 ,\n",
       "                nan,  1.02437907],\n",
       "       [        nan, -0.14202706, -1.16425432, ..., -0.0998444 ,\n",
       "                nan,  1.02437907],\n",
       "       ...,\n",
       "       [-0.24394358,  0.19583088,  0.83384157, ...,  0.76118164,\n",
       "        -0.35809971,  1.02437907],\n",
       "       [-0.37143885, -0.73165499,  0.83384157, ...,  0.76118164,\n",
       "        -0.39372681,  1.02437907],\n",
       "       [ 0.20634868,  0.80356423,  0.83384157, ...,  0.76118164,\n",
       "        -0.19290283,  0.06383143]])"
      ]
     },
     "execution_count": 278,
     "metadata": {},
     "output_type": "execute_result"
    }
   ],
   "source": [
    "X_train"
   ]
  },
  {
   "cell_type": "code",
   "execution_count": 23,
   "metadata": {},
   "outputs": [],
   "source": [
    "df_train2_y=df_train2['anomaly']"
   ]
  },
  {
   "cell_type": "code",
   "execution_count": 24,
   "metadata": {},
   "outputs": [],
   "source": [
    "df_val_y=df_val['anomaly']"
   ]
  },
  {
   "cell_type": "code",
   "execution_count": 290,
   "metadata": {},
   "outputs": [
    {
     "name": "stdout",
     "output_type": "stream",
     "text": [
      "0.9770113627588652\n"
     ]
    }
   ],
   "source": [
    "#why could I feed in an array here? \n",
    "knn = KNeighborsClassifier(n_neighbors=5)\n",
    "knn.fit(X_train, df_train2_y)\n",
    "y_pred = knn.predict(X_test)\n",
    "print(metrics.accuracy_score(df_val_y, y_pred))"
   ]
  },
  {
   "cell_type": "code",
   "execution_count": 374,
   "metadata": {},
   "outputs": [
    {
     "name": "stdout",
     "output_type": "stream",
     "text": [
      "[[337981   1557]\n",
      " [  6481   3632]]\n"
     ]
    }
   ],
   "source": [
    "print(metrics.confusion_matrix(df_val_y, y_pred))"
   ]
  },
  {
   "cell_type": "code",
   "execution_count": 375,
   "metadata": {},
   "outputs": [
    {
     "name": "stdout",
     "output_type": "stream",
     "text": [
      "              precision    recall  f1-score   support\n",
      "\n",
      "           0       0.98      1.00      0.99    339538\n",
      "           1       0.70      0.36      0.47     10113\n",
      "\n",
      "    accuracy                           0.98    349651\n",
      "   macro avg       0.84      0.68      0.73    349651\n",
      "weighted avg       0.97      0.98      0.97    349651\n",
      "\n"
     ]
    }
   ],
   "source": [
    "print(metrics.classification_report(df_val_y,y_pred))"
   ]
  },
  {
   "cell_type": "code",
   "execution_count": 103,
   "metadata": {},
   "outputs": [
    {
     "data": {
      "text/plain": [
       "107653"
      ]
     },
     "execution_count": 103,
     "metadata": {},
     "output_type": "execute_result"
    }
   ],
   "source": [
    "df_train_full['meter_reading'].isnull().sum()\n",
    "\n"
   ]
  },
  {
   "cell_type": "code",
   "execution_count": 447,
   "metadata": {},
   "outputs": [
    {
     "name": "stdout",
     "output_type": "stream",
     "text": [
      "[[337981   1557]\n",
      " [  6481   3632]]\n"
     ]
    }
   ],
   "source": [
    "cm = metrics.confusion_matrix(df_val_y, y_pred)\n",
    "print(cm)"
   ]
  },
  {
   "cell_type": "code",
   "execution_count": 448,
   "metadata": {},
   "outputs": [
    {
     "data": {
      "image/png": "[encoded data removed]",
      "text/plain": [
       "<Figure size 648x648 with 2 Axes>"
      ]
     },
     "metadata": {
      "needs_background": "light"
     },
     "output_type": "display_data"
    }
   ],
   "source": [
    "plt.figure(figsize=(9,9))\n",
    "sns.heatmap(cm, annot=True, fmt=\".1f\", linewidths=.5, square = True, cmap = 'Blues_r');\n",
    "plt.ylabel('Actual label');\n",
    "plt.xlabel('Predicted label');"
   ]
  },
  {
   "cell_type": "code",
   "execution_count": 47,
   "metadata": {},
   "outputs": [
    {
     "data": {
      "text/plain": [
       "building_id                      0\n",
       "timestamp                        0\n",
       "meter_reading                    0\n",
       "anomaly                          0\n",
       "site_id                          0\n",
       "primary_use                      0\n",
       "square_feet                      0\n",
       "year_built                       0\n",
       "floor_count                      0\n",
       "air_temperature                  0\n",
       "cloud_coverage                   0\n",
       "dew_temperature                  0\n",
       "precip_depth_1_hr                0\n",
       "sea_level_pressure               0\n",
       "wind_direction                   0\n",
       "wind_speed                       0\n",
       "air_temperature_mean_lag7        0\n",
       "air_temperature_max_lag7         0\n",
       "air_temperature_min_lag7         0\n",
       "air_temperature_std_lag7         0\n",
       "air_temperature_mean_lag73       0\n",
       "air_temperature_max_lag73        0\n",
       "air_temperature_min_lag73        0\n",
       "air_temperature_std_lag73        0\n",
       "hour                             0\n",
       "weekday                          0\n",
       "month                            0\n",
       "year                             0\n",
       "weekday_hour                     0\n",
       "hour_x                           0\n",
       "hour_y                           0\n",
       "month_x                          0\n",
       "month_y                          0\n",
       "weekday_x                        0\n",
       "weekday_y                        0\n",
       "building_weekday_hour            0\n",
       "building_weekday                 0\n",
       "building_month                   0\n",
       "building_hour                    0\n",
       "building_meter                   0\n",
       "is_holiday                       0\n",
       "gte_hour                         0\n",
       "gte_weekday                      0\n",
       "gte_month                        0\n",
       "gte_building_id                  0\n",
       "gte_primary_use                  0\n",
       "gte_site_id                      0\n",
       "gte_meter                        0\n",
       "gte_meter_hour                   0\n",
       "gte_meter_weekday                0\n",
       "gte_meter_month                  0\n",
       "gte_meter_building_id            0\n",
       "gte_meter_primary_use            0\n",
       "gte_meter_site_id                0\n",
       "gte_meter_building_id_hour       0\n",
       "gte_meter_building_id_weekday    0\n",
       "gte_meter_building_id_month      0\n",
       "dtype: int64"
      ]
     },
     "execution_count": 47,
     "metadata": {},
     "output_type": "execute_result"
    }
   ],
   "source": [
    "#from: https://www.kaggle.com/code/patrick0302/2-anomaly-detection-features-csv-revised-ensem\n",
    "df_train2[df_train2['anomaly']==1].isnull().sum() #all anomalies don't have null values"
   ]
  }
 ],
 "metadata": {
  "kernelspec": {
   "display_name": "Python 3.8.13 ('classification')",
   "language": "python",
   "name": "python3"
  },
  "language_info": {
   "codemirror_mode": {
    "name": "ipython",
    "version": 3
   },
   "file_extension": ".py",
   "mimetype": "text/x-python",
   "name": "python",
   "nbconvert_exporter": "python",
   "pygments_lexer": "ipython3",
   "version": "3.8.13"
  },
  "orig_nbformat": 4,
  "vscode": {
   "interpreter": {
    "hash": "b161b1c3207380de6396d2091c7e58ae16163ea816ef25fea719df5fe370bcac"
   }
  }
 },
 "nbformat": 4,
 "nbformat_minor": 2
}
