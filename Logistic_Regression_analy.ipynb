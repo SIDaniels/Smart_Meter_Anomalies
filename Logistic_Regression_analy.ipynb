{
 "cells": [
  {
   "cell_type": "code",
   "execution_count": 144,
   "metadata": {},
   "outputs": [],
   "source": [
    "import numpy as np\n",
    "import pandas as pd\n",
    "from sklearn.model_selection import cross_val_score\n",
    "\n",
    "from sklearn.metrics import f1_score\n",
    "from sklearn.metrics import accuracy_score, confusion_matrix, recall_score, roc_auc_score, precision_score\n",
    "\n",
    "from sklearn import metrics\n",
    "from sklearn.linear_model import LogisticRegression\n",
    "from sklearn.preprocessing import StandardScaler\n",
    "\n",
    "import statsmodels.api as sm\n",
    "\n",
    "import plotly as py\n",
    "import matplotlib.pyplot as plt\n",
    "\n",
    "\n",
    "from tqdm import tqdm, trange\n",
    "import seaborn as sns\n",
    "import random\n",
    "from sklearn import preprocessing\n",
    "\n",
    "\n",
    "import xgboost as xgb\n",
    "from sklearn.metrics import mean_squared_error\n",
    "from sklearn.metrics import confusion_matrix\n",
    "\n",
    "from pprint import pprint\n",
    "from sklearn.metrics import roc_auc_score, roc_curve\n",
    "from sklearn.model_selection import StratifiedKFold\n",
    "from sklearn.model_selection import cross_validate\n"
   ]
  },
  {
   "cell_type": "markdown",
   "metadata": {},
   "source": [
    "Logistic Regression preparation/implementation"
   ]
  },
  {
   "cell_type": "code",
   "execution_count": 344,
   "metadata": {},
   "outputs": [
    {
     "name": "stdout",
     "output_type": "stream",
     "text": [
      "Optimization terminated successfully.\n",
      "         Current function value: 0.093390\n",
      "         Iterations 10\n",
      "                              Results: Logit\n",
      "==========================================================================\n",
      "Model:                  Logit              Pseudo R-squared:   0.025      \n",
      "Dependent Variable:     anomaly            AIC:                261518.7839\n",
      "Date:                   2022-09-26 08:50   BIC:                261859.0362\n",
      "No. Observations:       1399843            Log-Likelihood:     -1.3073e+05\n",
      "Df Model:               27                 LL-Null:            -1.3406e+05\n",
      "Df Residuals:           1399815            LLR p-value:        0.0000     \n",
      "Converged:              1.0000             Scale:              1.0000     \n",
      "No. Iterations:         10.0000                                           \n",
      "--------------------------------------------------------------------------\n",
      "                           Coef.  Std.Err.    z     P>|z|   [0.025  0.975]\n",
      "--------------------------------------------------------------------------\n",
      "meter_reading             -0.0018   0.0001 -32.0833 0.0000 -0.0019 -0.0017\n",
      "square_feet                0.0000   0.0000  15.5560 0.0000  0.0000  0.0000\n",
      "year_built                -0.0002   0.0001  -1.6707 0.0948 -0.0004  0.0000\n",
      "floor_count               -0.0144   0.0041  -3.5130 0.0004 -0.0224 -0.0064\n",
      "air_temperature           -0.0067   0.0012  -5.4900 0.0000 -0.0090 -0.0043\n",
      "cloud_coverage            -0.0137   0.0016  -8.4923 0.0000 -0.0169 -0.0105\n",
      "dew_temperature           -0.0041   0.0013  -3.2922 0.0010 -0.0066 -0.0017\n",
      "precip_depth_1_hr         -0.0036   0.0014  -2.5940 0.0095 -0.0063 -0.0009\n",
      "sea_level_pressure        -0.0013   0.0005  -2.3894 0.0169 -0.0023 -0.0002\n",
      "wind_direction            -0.0000   0.0000 -14.1388 0.0000 -0.0000 -0.0000\n",
      "wind_speed                 0.0282   0.0030   9.3954 0.0000  0.0223  0.0341\n",
      "air_temperature_std_lag7  -0.0704   0.0078  -9.0294 0.0000 -0.0857 -0.0551\n",
      "air_temperature_std_lag73  0.0065   0.0070   0.9324 0.3511 -0.0072  0.0201\n",
      "hour_x                    -0.2538   0.0315  -8.0619 0.0000 -0.3155 -0.1921\n",
      "hour_y                    -0.0105   0.0211  -0.4995 0.6174 -0.0518  0.0308\n",
      "month_x                    0.0507   0.0088   5.7908 0.0000  0.0335  0.0679\n",
      "month_y                   -0.3566   0.0089 -39.9218 0.0000 -0.3741 -0.3391\n",
      "weekday_x                 -0.0809   0.0092  -8.7891 0.0000 -0.0990 -0.0629\n",
      "weekday_y                 -0.1168   0.0162  -7.2073 0.0000 -0.1486 -0.0851\n",
      "is_holiday                 1.0806   0.0254  42.5362 0.0000  1.0308  1.1304\n",
      "gte_site_id               -0.8526   0.0407 -20.9370 0.0000 -0.9324 -0.7728\n",
      "gte_meter_hour            -1.0353   0.2152  -4.8113 0.0000 -1.4571 -0.6136\n",
      "gte_meter_weekday         -1.1511   0.1532  -7.5127 0.0000 -1.4514 -0.8508\n",
      "gte_meter_month            1.3849   0.1437   9.6352 0.0000  1.1032  1.6666\n",
      "gte_meter_primary_use      0.0183   0.0194   0.9410 0.3467 -0.0198  0.0563\n",
      "gte_meter_site_id          1.0663   0.0436  24.4705 0.0000  0.9809  1.1517\n",
      "meterReadings_daily_std    0.0021   0.0001  18.8558 0.0000  0.0019  0.0024\n",
      "0                         -0.0091   0.0021  -4.2418 0.0000 -0.0132 -0.0049\n",
      "==========================================================================\n",
      "\n"
     ]
    }
   ],
   "source": [
    "\n",
    "logit_model=sm.Logit(df_train2_y,df_train2_x)\n",
    "result=logit_model.fit()\n",
    "print(result.summary2())\n",
    "#print(result.summary())"
   ]
  },
  {
   "cell_type": "code",
   "execution_count": 347,
   "metadata": {},
   "outputs": [
    {
     "name": "stdout",
     "output_type": "stream",
     "text": [
      "Optimization terminated successfully.\n",
      "         Current function value: 0.692958\n",
      "         Iterations 3\n",
      "                          Results: Logit\n",
      "===================================================================\n",
      "Model:              Logit            Pseudo R-squared: -6.236      \n",
      "Dependent Variable: anomaly          AIC:              1940121.4675\n",
      "Date:               2022-09-26 15:28 BIC:              1940461.7198\n",
      "No. Observations:   1399843          Log-Likelihood:   -9.7003e+05 \n",
      "Df Model:           27               LL-Null:          -1.3406e+05 \n",
      "Df Residuals:       1399815          LLR p-value:      1.0000      \n",
      "Converged:          1.0000           Scale:            1.0000      \n",
      "No. Iterations:     3.0000                                         \n",
      "----------------------------------------------------------------------\n",
      "        Coef.     Std.Err.       z        P>|z|      [0.025     0.975]\n",
      "----------------------------------------------------------------------\n",
      "x1     -0.0334      0.0033     -9.9922    0.0000    -0.0400    -0.0268\n",
      "x2      0.0060      0.0021      2.8183    0.0048     0.0018     0.0102\n",
      "x3     -0.0022      0.0027     -0.8408    0.4005    -0.0074     0.0030\n",
      "x4     -0.0028      0.0028     -0.9704    0.3319    -0.0083     0.0028\n",
      "x5     -0.0067      0.0035     -1.9247    0.0543    -0.0135     0.0001\n",
      "x6     -0.0048      0.0020     -2.3611    0.0182    -0.0087    -0.0008\n",
      "x7     -0.0020      0.0033     -0.6068    0.5440    -0.0085     0.0045\n",
      "x8     -0.0011      0.0017     -0.6141    0.5392    -0.0045     0.0023\n",
      "x9     -0.0003      0.0028     -0.1115    0.9112    -0.0059     0.0053\n",
      "x10    -0.0065      0.0018     -3.5809    0.0003    -0.0101    -0.0029\n",
      "x11     0.0055      0.0019      2.8314    0.0046     0.0017     0.0093\n",
      "x12    -0.0070      0.0024     -2.9446    0.0032    -0.0116    -0.0023\n",
      "x13     0.0010      0.0024      0.4055    0.6851    -0.0038     0.0058\n",
      "x14     0.0003      0.0104      0.0330    0.9736    -0.0201     0.0207\n",
      "x15     0.0078      0.0065      1.1996    0.2303    -0.0050     0.0207\n",
      "x16     0.0026      0.0017      1.5430    0.1228    -0.0007     0.0059\n",
      "x17    -0.0188      0.0017    -11.0859    0.0000    -0.0221    -0.0154\n",
      "x18    -0.0045      0.0018     -2.4383    0.0148    -0.0081    -0.0009\n",
      "x19    -0.0044      0.0032     -1.3463    0.1782    -0.0107     0.0020\n",
      "x20     0.0218      0.0017     12.5120    0.0000     0.0184     0.0252\n",
      "x21    -0.0483      0.0077     -6.2639    0.0000    -0.0634    -0.0332\n",
      "x22     0.0072      0.0123      0.5864    0.5576    -0.0169     0.0314\n",
      "x23    -0.0043      0.0033     -1.2888    0.1975    -0.0108     0.0022\n",
      "x24     0.0054      0.0019      2.8974    0.0038     0.0017     0.0090\n",
      "x25     0.0002      0.0019      0.0997    0.9206    -0.0035     0.0039\n",
      "x26     0.0587      0.0080      7.3280    0.0000     0.0430     0.0744\n",
      "x27     0.0107      0.0025      4.2479    0.0000     0.0058     0.0157\n",
      "x28    -0.0012      0.0018     -0.6548    0.5126    -0.0048     0.0024\n",
      "===================================================================\n",
      "\n"
     ]
    }
   ],
   "source": [
    "\n",
    "logit_model=sm.Logit(df_train2_y,X_train)\n",
    "result=logit_model.fit()\n",
    "print(result.summary2())\n",
    "#print(result.summary())"
   ]
  },
  {
   "cell_type": "code",
   "execution_count": 49,
   "metadata": {},
   "outputs": [],
   "source": [
    "#creating dummy variables for logistic regression instead of using onehot encoding\n",
    "df_dummies=pd.get_dummies(df_train_full['primary_use'],drop_first=True)\n"
   ]
  },
  {
   "cell_type": "code",
   "execution_count": 50,
   "metadata": {},
   "outputs": [
    {
     "data": {
      "text/html": [
       "<div>\n",
       "<style scoped>\n",
       "    .dataframe tbody tr th:only-of-type {\n",
       "        vertical-align: middle;\n",
       "    }\n",
       "\n",
       "    .dataframe tbody tr th {\n",
       "        vertical-align: top;\n",
       "    }\n",
       "\n",
       "    .dataframe thead th {\n",
       "        text-align: right;\n",
       "    }\n",
       "</style>\n",
       "<table border=\"1\" class=\"dataframe\">\n",
       "  <thead>\n",
       "    <tr style=\"text-align: right;\">\n",
       "      <th></th>\n",
       "      <th>Entertainment/public assembly</th>\n",
       "      <th>Food sales and service</th>\n",
       "      <th>Healthcare</th>\n",
       "      <th>Lodging/residential</th>\n",
       "      <th>Manufacturing/industrial</th>\n",
       "      <th>Office</th>\n",
       "      <th>Other</th>\n",
       "      <th>Parking</th>\n",
       "      <th>Public services</th>\n",
       "      <th>Religious worship</th>\n",
       "      <th>Services</th>\n",
       "    </tr>\n",
       "  </thead>\n",
       "  <tbody>\n",
       "    <tr>\n",
       "      <th>0</th>\n",
       "      <td>0</td>\n",
       "      <td>0</td>\n",
       "      <td>0</td>\n",
       "      <td>0</td>\n",
       "      <td>0</td>\n",
       "      <td>0</td>\n",
       "      <td>0</td>\n",
       "      <td>0</td>\n",
       "      <td>0</td>\n",
       "      <td>0</td>\n",
       "      <td>0</td>\n",
       "    </tr>\n",
       "    <tr>\n",
       "      <th>1</th>\n",
       "      <td>0</td>\n",
       "      <td>0</td>\n",
       "      <td>0</td>\n",
       "      <td>0</td>\n",
       "      <td>0</td>\n",
       "      <td>1</td>\n",
       "      <td>0</td>\n",
       "      <td>0</td>\n",
       "      <td>0</td>\n",
       "      <td>0</td>\n",
       "      <td>0</td>\n",
       "    </tr>\n",
       "    <tr>\n",
       "      <th>2</th>\n",
       "      <td>0</td>\n",
       "      <td>0</td>\n",
       "      <td>0</td>\n",
       "      <td>0</td>\n",
       "      <td>0</td>\n",
       "      <td>1</td>\n",
       "      <td>0</td>\n",
       "      <td>0</td>\n",
       "      <td>0</td>\n",
       "      <td>0</td>\n",
       "      <td>0</td>\n",
       "    </tr>\n",
       "    <tr>\n",
       "      <th>3</th>\n",
       "      <td>0</td>\n",
       "      <td>0</td>\n",
       "      <td>0</td>\n",
       "      <td>0</td>\n",
       "      <td>0</td>\n",
       "      <td>1</td>\n",
       "      <td>0</td>\n",
       "      <td>0</td>\n",
       "      <td>0</td>\n",
       "      <td>0</td>\n",
       "      <td>0</td>\n",
       "    </tr>\n",
       "    <tr>\n",
       "      <th>4</th>\n",
       "      <td>0</td>\n",
       "      <td>0</td>\n",
       "      <td>0</td>\n",
       "      <td>0</td>\n",
       "      <td>0</td>\n",
       "      <td>0</td>\n",
       "      <td>0</td>\n",
       "      <td>1</td>\n",
       "      <td>0</td>\n",
       "      <td>0</td>\n",
       "      <td>0</td>\n",
       "    </tr>\n",
       "  </tbody>\n",
       "</table>\n",
       "</div>"
      ],
      "text/plain": [
       "   Entertainment/public assembly  Food sales and service  Healthcare  \\\n",
       "0                              0                       0           0   \n",
       "1                              0                       0           0   \n",
       "2                              0                       0           0   \n",
       "3                              0                       0           0   \n",
       "4                              0                       0           0   \n",
       "\n",
       "   Lodging/residential  Manufacturing/industrial  Office  Other  Parking  \\\n",
       "0                    0                         0       0      0        0   \n",
       "1                    0                         0       1      0        0   \n",
       "2                    0                         0       1      0        0   \n",
       "3                    0                         0       1      0        0   \n",
       "4                    0                         0       0      0        1   \n",
       "\n",
       "   Public services  Religious worship  Services  \n",
       "0                0                  0         0  \n",
       "1                0                  0         0  \n",
       "2                0                  0         0  \n",
       "3                0                  0         0  \n",
       "4                0                  0         0  "
      ]
     },
     "execution_count": 50,
     "metadata": {},
     "output_type": "execute_result"
    }
   ],
   "source": [
    "df_dummies.head()"
   ]
  },
  {
   "cell_type": "code",
   "execution_count": 51,
   "metadata": {},
   "outputs": [],
   "source": [
    "df_full_2_lr=pd.concat([df_train_full,df_dummies], axis=1)"
   ]
  },
  {
   "cell_type": "code",
   "execution_count": 52,
   "metadata": {},
   "outputs": [],
   "source": [
    "df_train2_lr = df_full_2_lr[df_full_2_lr['building_id']<1242]"
   ]
  },
  {
   "cell_type": "code",
   "execution_count": 53,
   "metadata": {},
   "outputs": [],
   "source": [
    "df_val_lr = df_full_2_lr[df_full_2_lr['building_id']>=1242] #20% split (will need to change when I add more data)"
   ]
  },
  {
   "cell_type": "code",
   "execution_count": 54,
   "metadata": {},
   "outputs": [],
   "source": [
    "df_train2_x_lr = df_train2_lr.drop(['anomaly','building_id', 'site_id','primary_use','weekday_hour','date' ], axis=1)\n",
    "df_val_x_lr = df_val_lr.drop(['anomaly','building_id', 'site_id','primary_use','weekday_hour','date'], axis=1)"
   ]
  },
  {
   "cell_type": "code",
   "execution_count": 55,
   "metadata": {},
   "outputs": [
    {
     "name": "stderr",
     "output_type": "stream",
     "text": [
      "/Users/sidan/opt/anaconda3/envs/classification/lib/python3.8/site-packages/sklearn/utils/validation.py:1688: FutureWarning: Feature names only support names that are all strings. Got feature names with dtypes: ['int', 'str']. An error will be raised in 1.2.\n",
      "  warnings.warn(\n",
      "/Users/sidan/opt/anaconda3/envs/classification/lib/python3.8/site-packages/sklearn/utils/validation.py:1688: FutureWarning: Feature names only support names that are all strings. Got feature names with dtypes: ['int', 'str']. An error will be raised in 1.2.\n",
      "  warnings.warn(\n",
      "/Users/sidan/opt/anaconda3/envs/classification/lib/python3.8/site-packages/sklearn/utils/validation.py:1688: FutureWarning: Feature names only support names that are all strings. Got feature names with dtypes: ['int', 'str']. An error will be raised in 1.2.\n",
      "  warnings.warn(\n"
     ]
    }
   ],
   "source": [
    "#scaling features that need it \n",
    "#https://datascience.stackexchange.com/questions/38395/standardscaler-before-or-after-splitting-data-which-is-better\n",
    "sc = StandardScaler()\n",
    "X_train_lr = sc.fit_transform(df_train2_x_lr)\n",
    "X_test_lr = sc.transform (df_val_x_lr)"
   ]
  },
  {
   "cell_type": "code",
   "execution_count": null,
   "metadata": {},
   "outputs": [],
   "source": [
    "\n",
    "results=logisticRegr.fit(X_train_lr, df_train2_y)\n",
    "\n",
    "y_predict_lr = results.predict(X_test_lr) \n",
    "score=results.score(X_test_lr, df_val_y)\n"
   ]
  },
  {
   "cell_type": "code",
   "execution_count": 499,
   "metadata": {},
   "outputs": [
    {
     "data": {
      "text/plain": [
       "0    1372660\n",
       "1      27183\n",
       "Name: anomaly, dtype: int64"
      ]
     },
     "execution_count": 499,
     "metadata": {},
     "output_type": "execute_result"
    }
   ],
   "source": [
    "df_train2_y.value_counts()"
   ]
  },
  {
   "cell_type": "code",
   "execution_count": 500,
   "metadata": {},
   "outputs": [
    {
     "data": {
      "text/plain": [
       "0    339538\n",
       "1     10113\n",
       "Name: anomaly, dtype: int64"
      ]
     },
     "execution_count": 500,
     "metadata": {},
     "output_type": "execute_result"
    }
   ],
   "source": [
    "df_val_y.value_counts()"
   ]
  },
  {
   "cell_type": "code",
   "execution_count": 501,
   "metadata": {},
   "outputs": [
    {
     "data": {
      "text/plain": [
       "{0: 349651}"
      ]
     },
     "execution_count": 501,
     "metadata": {},
     "output_type": "execute_result"
    }
   ],
   "source": [
    "unique, counts = np.unique(y_predict_lr, return_counts=True)\n",
    "\n",
    "dict(zip(unique, counts))"
   ]
  },
  {
   "cell_type": "code",
   "execution_count": 531,
   "metadata": {},
   "outputs": [
    {
     "name": "stdout",
     "output_type": "stream",
     "text": [
      "[[339538      0]\n",
      " [ 10113      0]]\n"
     ]
    }
   ],
   "source": [
    "cm = metrics.confusion_matrix(df_val_y, y_predict_lr)\n",
    "print(cm)"
   ]
  },
  {
   "cell_type": "code",
   "execution_count": 532,
   "metadata": {},
   "outputs": [
    {
     "data": {
      "image/png": "[encoded data removed]",
      "text/plain": [
       "<Figure size 648x648 with 2 Axes>"
      ]
     },
     "metadata": {
      "needs_background": "light"
     },
     "output_type": "display_data"
    }
   ],
   "source": [
    "#very poor performance of logistic regression\n",
    "\n",
    "plt.figure(figsize=(9,9))\n",
    "sns.heatmap(cm, annot=True, fmt=\".1f\", linewidths=.5, square = True, cmap = 'Blues_r');\n",
    "plt.ylabel('Actual label');\n",
    "plt.xlabel('Predicted label');\n",
    "all_sample_title = 'Accuracy Score: {0}'.format(score)\n",
    "plt.title(all_sample_title, size = 15);"
   ]
  },
  {
   "cell_type": "code",
   "execution_count": 535,
   "metadata": {},
   "outputs": [
    {
     "data": {
      "text/html": [
       "<div>\n",
       "<style scoped>\n",
       "    .dataframe tbody tr th:only-of-type {\n",
       "        vertical-align: middle;\n",
       "    }\n",
       "\n",
       "    .dataframe tbody tr th {\n",
       "        vertical-align: top;\n",
       "    }\n",
       "\n",
       "    .dataframe thead th {\n",
       "        text-align: right;\n",
       "    }\n",
       "</style>\n",
       "<table border=\"1\" class=\"dataframe\">\n",
       "  <thead>\n",
       "    <tr style=\"text-align: right;\">\n",
       "      <th></th>\n",
       "      <th>0</th>\n",
       "    </tr>\n",
       "  </thead>\n",
       "  <tbody>\n",
       "    <tr>\n",
       "      <th>accuracy</th>\n",
       "      <td>0.370615</td>\n",
       "    </tr>\n",
       "    <tr>\n",
       "      <th>recall</th>\n",
       "      <td>0.757243</td>\n",
       "    </tr>\n",
       "    <tr>\n",
       "      <th>precision</th>\n",
       "      <td>0.033995</td>\n",
       "    </tr>\n",
       "    <tr>\n",
       "      <th>roc_auc_score</th>\n",
       "      <td>0.558171</td>\n",
       "    </tr>\n",
       "  </tbody>\n",
       "</table>\n",
       "</div>"
      ],
      "text/plain": [
       "                      0\n",
       "accuracy       0.370615\n",
       "recall         0.757243\n",
       "precision      0.033995\n",
       "roc_auc_score  0.558171"
      ]
     },
     "execution_count": 535,
     "metadata": {},
     "output_type": "execute_result"
    }
   ],
   "source": [
    "#https://stackoverflow.com/questions/31417487/sklearn-logisticregression-and-changing-the-default-threshold-for-classification\n",
    "clf = LogisticRegression(class_weight=\"balanced\")\n",
    "clf.fit(X_train_lr, df_train2_y)\n",
    "THRESHOLD = 0.39\n",
    "preds = np.where(clf.predict_proba(X_test_lr)[:,1] > THRESHOLD, 1, 0)\n",
    "\n",
    "pd.DataFrame(data=[accuracy_score(df_val_y, preds), recall_score(df_val_y, preds),\n",
    "                   precision_score(df_val_y, preds), roc_auc_score(df_val_y, preds)], \n",
    "             index=[\"accuracy\", \"recall\", \"precision\", \"roc_auc_score\"])"
   ]
  },
  {
   "cell_type": "code",
   "execution_count": 536,
   "metadata": {},
   "outputs": [
    {
     "name": "stdout",
     "output_type": "stream",
     "text": [
      "[[121928 217610]\n",
      " [  2455   7658]]\n"
     ]
    }
   ],
   "source": [
    "cm = metrics.confusion_matrix(df_val_y, preds)\n",
    "print(cm)"
   ]
  },
  {
   "cell_type": "code",
   "execution_count": 537,
   "metadata": {},
   "outputs": [
    {
     "data": {
      "image/png": "[encoded data removed]",
      "text/plain": [
       "<Figure size 648x648 with 2 Axes>"
      ]
     },
     "metadata": {
      "needs_background": "light"
     },
     "output_type": "display_data"
    }
   ],
   "source": [
    "plt.figure(figsize=(9,9))\n",
    "sns.heatmap(cm, annot=True, fmt=\".1f\", linewidths=.5, square = True, cmap = 'Blues_r');\n",
    "plt.ylabel('Actual label');\n",
    "plt.xlabel('Predicted label');"
   ]
  }
 ],
 "metadata": {
  "kernelspec": {
   "display_name": "Python 3.8.13 ('classification')",
   "language": "python",
   "name": "python3"
  },
  "language_info": {
   "codemirror_mode": {
    "name": "ipython",
    "version": 3
   },
   "file_extension": ".py",
   "mimetype": "text/x-python",
   "name": "python",
   "nbconvert_exporter": "python",
   "pygments_lexer": "ipython3",
   "version": "3.8.13"
  },
  "orig_nbformat": 4,
  "vscode": {
   "interpreter": {
    "hash": "b161b1c3207380de6396d2091c7e58ae16163ea816ef25fea719df5fe370bcac"
   }
  }
 },
 "nbformat": 4,
 "nbformat_minor": 2
}
